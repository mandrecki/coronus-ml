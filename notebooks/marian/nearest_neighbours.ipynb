{
 "cells": [
  {
   "cell_type": "markdown",
   "metadata": {},
   "source": [
    "### Useful libraries"
   ]
  },
  {
   "cell_type": "code",
   "execution_count": 1,
   "metadata": {},
   "outputs": [],
   "source": [
    "import pandas as pd  # table management\n",
    "import numpy as np  # Matlab-like matrix operations\n",
    "\n",
    "import plotly  # pretty interactive plots (on website)\n",
    "import plotly.express as px\n",
    "\n",
    "import matplotlib.pyplot as plt  # quick plots\n",
    "import seaborn as sns  # more pretty plots\n",
    "\n",
    "import sklearn  # machine learning\n",
    "\n",
    "import logging  # logging info, warnings and errors\n",
    "\n",
    "from pkg_resources import resource_listdir, resource_stream  # loading raw files"
   ]
  },
  {
   "cell_type": "markdown",
   "metadata": {},
   "source": [
    "### Useful imports from our package"
   ]
  },
  {
   "cell_type": "code",
   "execution_count": 2,
   "metadata": {},
   "outputs": [],
   "source": [
    "import coronus_web\n",
    "from coronus_web.loading.frames import get_cases  # for loading preprocessed cases (already preprocessed)\n",
    "from coronus_web.plotting.plots import plot_interactive_df  # for plotting a dataframe\n",
    "from coronus_web.loading.download import get_frames\n",
    "from coronus_web.loading.download import GEO_LEVELS, CASE_TYPES  # constants"
   ]
  },
  {
   "cell_type": "markdown",
   "metadata": {},
   "source": [
    "### Or get our preprocessed cases"
   ]
  },
  {
   "cell_type": "code",
   "execution_count": 395,
   "metadata": {},
   "outputs": [],
   "source": [
    "geo_level = \"country\"\n",
    "total = get_cases(geo_level, \"total\") + 0.1\n",
    "active = get_cases(geo_level, \"active\") + 0.1\n",
    "deaths = get_cases(geo_level, \"deaths\") + 0.1\n",
    "recovered = get_cases(geo_level, \"recovered\") + 0.1"
   ]
  },
  {
   "cell_type": "code",
   "execution_count": 396,
   "metadata": {},
   "outputs": [],
   "source": [
    "# active = active.resample(\"D\").interpolate(method=\"time\")\n",
    "active = active.rolling(5).mean().fillna(method=\"ffill\")"
   ]
  },
  {
   "cell_type": "code",
   "execution_count": 397,
   "metadata": {},
   "outputs": [
    {
     "data": {
      "text/html": [
       "<div>\n",
       "<style scoped>\n",
       "    .dataframe tbody tr th:only-of-type {\n",
       "        vertical-align: middle;\n",
       "    }\n",
       "\n",
       "    .dataframe tbody tr th {\n",
       "        vertical-align: top;\n",
       "    }\n",
       "\n",
       "    .dataframe thead th {\n",
       "        text-align: right;\n",
       "    }\n",
       "</style>\n",
       "<table border=\"1\" class=\"dataframe\">\n",
       "  <thead>\n",
       "    <tr style=\"text-align: right;\">\n",
       "      <th>country</th>\n",
       "      <th>Afghanistan</th>\n",
       "      <th>Albania</th>\n",
       "      <th>Algeria</th>\n",
       "      <th>Andorra</th>\n",
       "      <th>Angola</th>\n",
       "      <th>Antigua and Barbuda</th>\n",
       "      <th>Argentina</th>\n",
       "      <th>Armenia</th>\n",
       "      <th>Australia</th>\n",
       "      <th>Austria</th>\n",
       "      <th>...</th>\n",
       "      <th>Ukraine</th>\n",
       "      <th>United Arab Emirates</th>\n",
       "      <th>United Kingdom</th>\n",
       "      <th>Uruguay</th>\n",
       "      <th>Uzbekistan</th>\n",
       "      <th>Venezuela</th>\n",
       "      <th>Vietnam</th>\n",
       "      <th>West Bank and Gaza</th>\n",
       "      <th>Zambia</th>\n",
       "      <th>Zimbabwe</th>\n",
       "    </tr>\n",
       "    <tr>\n",
       "      <th>date</th>\n",
       "      <th></th>\n",
       "      <th></th>\n",
       "      <th></th>\n",
       "      <th></th>\n",
       "      <th></th>\n",
       "      <th></th>\n",
       "      <th></th>\n",
       "      <th></th>\n",
       "      <th></th>\n",
       "      <th></th>\n",
       "      <th></th>\n",
       "      <th></th>\n",
       "      <th></th>\n",
       "      <th></th>\n",
       "      <th></th>\n",
       "      <th></th>\n",
       "      <th></th>\n",
       "      <th></th>\n",
       "      <th></th>\n",
       "      <th></th>\n",
       "      <th></th>\n",
       "    </tr>\n",
       "  </thead>\n",
       "  <tbody>\n",
       "    <tr>\n",
       "      <th>2020-01-22</th>\n",
       "      <td>NaN</td>\n",
       "      <td>NaN</td>\n",
       "      <td>NaN</td>\n",
       "      <td>NaN</td>\n",
       "      <td>NaN</td>\n",
       "      <td>NaN</td>\n",
       "      <td>NaN</td>\n",
       "      <td>NaN</td>\n",
       "      <td>NaN</td>\n",
       "      <td>NaN</td>\n",
       "      <td>...</td>\n",
       "      <td>NaN</td>\n",
       "      <td>NaN</td>\n",
       "      <td>NaN</td>\n",
       "      <td>NaN</td>\n",
       "      <td>NaN</td>\n",
       "      <td>NaN</td>\n",
       "      <td>NaN</td>\n",
       "      <td>NaN</td>\n",
       "      <td>NaN</td>\n",
       "      <td>NaN</td>\n",
       "    </tr>\n",
       "    <tr>\n",
       "      <th>2020-01-23</th>\n",
       "      <td>NaN</td>\n",
       "      <td>NaN</td>\n",
       "      <td>NaN</td>\n",
       "      <td>NaN</td>\n",
       "      <td>NaN</td>\n",
       "      <td>NaN</td>\n",
       "      <td>NaN</td>\n",
       "      <td>NaN</td>\n",
       "      <td>NaN</td>\n",
       "      <td>NaN</td>\n",
       "      <td>...</td>\n",
       "      <td>NaN</td>\n",
       "      <td>NaN</td>\n",
       "      <td>NaN</td>\n",
       "      <td>NaN</td>\n",
       "      <td>NaN</td>\n",
       "      <td>NaN</td>\n",
       "      <td>NaN</td>\n",
       "      <td>NaN</td>\n",
       "      <td>NaN</td>\n",
       "      <td>NaN</td>\n",
       "    </tr>\n",
       "    <tr>\n",
       "      <th>2020-01-24</th>\n",
       "      <td>NaN</td>\n",
       "      <td>NaN</td>\n",
       "      <td>NaN</td>\n",
       "      <td>NaN</td>\n",
       "      <td>NaN</td>\n",
       "      <td>NaN</td>\n",
       "      <td>NaN</td>\n",
       "      <td>NaN</td>\n",
       "      <td>NaN</td>\n",
       "      <td>NaN</td>\n",
       "      <td>...</td>\n",
       "      <td>NaN</td>\n",
       "      <td>NaN</td>\n",
       "      <td>NaN</td>\n",
       "      <td>NaN</td>\n",
       "      <td>NaN</td>\n",
       "      <td>NaN</td>\n",
       "      <td>NaN</td>\n",
       "      <td>NaN</td>\n",
       "      <td>NaN</td>\n",
       "      <td>NaN</td>\n",
       "    </tr>\n",
       "    <tr>\n",
       "      <th>2020-01-25</th>\n",
       "      <td>NaN</td>\n",
       "      <td>NaN</td>\n",
       "      <td>NaN</td>\n",
       "      <td>NaN</td>\n",
       "      <td>NaN</td>\n",
       "      <td>NaN</td>\n",
       "      <td>NaN</td>\n",
       "      <td>NaN</td>\n",
       "      <td>NaN</td>\n",
       "      <td>NaN</td>\n",
       "      <td>...</td>\n",
       "      <td>NaN</td>\n",
       "      <td>NaN</td>\n",
       "      <td>NaN</td>\n",
       "      <td>NaN</td>\n",
       "      <td>NaN</td>\n",
       "      <td>NaN</td>\n",
       "      <td>NaN</td>\n",
       "      <td>NaN</td>\n",
       "      <td>NaN</td>\n",
       "      <td>NaN</td>\n",
       "    </tr>\n",
       "    <tr>\n",
       "      <th>2020-01-26</th>\n",
       "      <td>NaN</td>\n",
       "      <td>NaN</td>\n",
       "      <td>NaN</td>\n",
       "      <td>NaN</td>\n",
       "      <td>NaN</td>\n",
       "      <td>NaN</td>\n",
       "      <td>NaN</td>\n",
       "      <td>NaN</td>\n",
       "      <td>NaN</td>\n",
       "      <td>NaN</td>\n",
       "      <td>...</td>\n",
       "      <td>NaN</td>\n",
       "      <td>NaN</td>\n",
       "      <td>NaN</td>\n",
       "      <td>NaN</td>\n",
       "      <td>NaN</td>\n",
       "      <td>NaN</td>\n",
       "      <td>NaN</td>\n",
       "      <td>NaN</td>\n",
       "      <td>NaN</td>\n",
       "      <td>NaN</td>\n",
       "    </tr>\n",
       "    <tr>\n",
       "      <th>...</th>\n",
       "      <td>...</td>\n",
       "      <td>...</td>\n",
       "      <td>...</td>\n",
       "      <td>...</td>\n",
       "      <td>...</td>\n",
       "      <td>...</td>\n",
       "      <td>...</td>\n",
       "      <td>...</td>\n",
       "      <td>...</td>\n",
       "      <td>...</td>\n",
       "      <td>...</td>\n",
       "      <td>...</td>\n",
       "      <td>...</td>\n",
       "      <td>...</td>\n",
       "      <td>...</td>\n",
       "      <td>...</td>\n",
       "      <td>...</td>\n",
       "      <td>...</td>\n",
       "      <td>...</td>\n",
       "      <td>...</td>\n",
       "      <td>...</td>\n",
       "    </tr>\n",
       "    <tr>\n",
       "      <th>2020-03-25</th>\n",
       "      <td>50.3</td>\n",
       "      <td>97.5</td>\n",
       "      <td>159.3</td>\n",
       "      <td>135.5</td>\n",
       "      <td>2.7</td>\n",
       "      <td>2.3</td>\n",
       "      <td>272.1</td>\n",
       "      <td>213.7</td>\n",
       "      <td>1647.5</td>\n",
       "      <td>4318.7</td>\n",
       "      <td>...</td>\n",
       "      <td>82.7</td>\n",
       "      <td>172.9</td>\n",
       "      <td>6624.1</td>\n",
       "      <td>156.3</td>\n",
       "      <td>48.5</td>\n",
       "      <td>66.5</td>\n",
       "      <td>104.1</td>\n",
       "      <td>38.5</td>\n",
       "      <td>4.7</td>\n",
       "      <td>2.5</td>\n",
       "    </tr>\n",
       "    <tr>\n",
       "      <th>2020-03-26</th>\n",
       "      <td>63.3</td>\n",
       "      <td>113.3</td>\n",
       "      <td>203.5</td>\n",
       "      <td>162.1</td>\n",
       "      <td>3.1</td>\n",
       "      <td>3.5</td>\n",
       "      <td>327.9</td>\n",
       "      <td>236.1</td>\n",
       "      <td>1964.9</td>\n",
       "      <td>5108.9</td>\n",
       "      <td>...</td>\n",
       "      <td>112.1</td>\n",
       "      <td>206.1</td>\n",
       "      <td>7887.3</td>\n",
       "      <td>177.7</td>\n",
       "      <td>54.9</td>\n",
       "      <td>70.9</td>\n",
       "      <td>115.3</td>\n",
       "      <td>45.5</td>\n",
       "      <td>7.5</td>\n",
       "      <td>2.3</td>\n",
       "    </tr>\n",
       "    <tr>\n",
       "      <th>2020-03-27</th>\n",
       "      <td>76.5</td>\n",
       "      <td>125.7</td>\n",
       "      <td>250.5</td>\n",
       "      <td>192.5</td>\n",
       "      <td>3.5</td>\n",
       "      <td>4.7</td>\n",
       "      <td>376.9</td>\n",
       "      <td>257.7</td>\n",
       "      <td>2261.3</td>\n",
       "      <td>5872.3</td>\n",
       "      <td>...</td>\n",
       "      <td>158.3</td>\n",
       "      <td>253.7</td>\n",
       "      <td>9574.7</td>\n",
       "      <td>193.7</td>\n",
       "      <td>62.7</td>\n",
       "      <td>74.9</td>\n",
       "      <td>124.7</td>\n",
       "      <td>53.1</td>\n",
       "      <td>11.3</td>\n",
       "      <td>2.5</td>\n",
       "    </tr>\n",
       "    <tr>\n",
       "      <th>2020-03-28</th>\n",
       "      <td>89.7</td>\n",
       "      <td>137.3</td>\n",
       "      <td>299.7</td>\n",
       "      <td>227.1</td>\n",
       "      <td>3.9</td>\n",
       "      <td>5.5</td>\n",
       "      <td>438.1</td>\n",
       "      <td>286.3</td>\n",
       "      <td>2620.3</td>\n",
       "      <td>6579.1</td>\n",
       "      <td>...</td>\n",
       "      <td>212.9</td>\n",
       "      <td>304.9</td>\n",
       "      <td>11538.1</td>\n",
       "      <td>216.1</td>\n",
       "      <td>72.9</td>\n",
       "      <td>78.1</td>\n",
       "      <td>134.1</td>\n",
       "      <td>60.5</td>\n",
       "      <td>16.3</td>\n",
       "      <td>3.3</td>\n",
       "    </tr>\n",
       "    <tr>\n",
       "      <th>2020-03-29</th>\n",
       "      <td>98.1</td>\n",
       "      <td>149.5</td>\n",
       "      <td>345.3</td>\n",
       "      <td>260.1</td>\n",
       "      <td>4.3</td>\n",
       "      <td>6.3</td>\n",
       "      <td>503.1</td>\n",
       "      <td>317.5</td>\n",
       "      <td>2980.9</td>\n",
       "      <td>7174.5</td>\n",
       "      <td>...</td>\n",
       "      <td>286.1</td>\n",
       "      <td>366.5</td>\n",
       "      <td>13697.5</td>\n",
       "      <td>244.3</td>\n",
       "      <td>89.9</td>\n",
       "      <td>79.9</td>\n",
       "      <td>143.3</td>\n",
       "      <td>70.1</td>\n",
       "      <td>21.5</td>\n",
       "      <td>4.1</td>\n",
       "    </tr>\n",
       "  </tbody>\n",
       "</table>\n",
       "<p>68 rows × 177 columns</p>\n",
       "</div>"
      ],
      "text/plain": [
       "country     Afghanistan  Albania  Algeria  Andorra  Angola  \\\n",
       "date                                                         \n",
       "2020-01-22          NaN      NaN      NaN      NaN     NaN   \n",
       "2020-01-23          NaN      NaN      NaN      NaN     NaN   \n",
       "2020-01-24          NaN      NaN      NaN      NaN     NaN   \n",
       "2020-01-25          NaN      NaN      NaN      NaN     NaN   \n",
       "2020-01-26          NaN      NaN      NaN      NaN     NaN   \n",
       "...                 ...      ...      ...      ...     ...   \n",
       "2020-03-25         50.3     97.5    159.3    135.5     2.7   \n",
       "2020-03-26         63.3    113.3    203.5    162.1     3.1   \n",
       "2020-03-27         76.5    125.7    250.5    192.5     3.5   \n",
       "2020-03-28         89.7    137.3    299.7    227.1     3.9   \n",
       "2020-03-29         98.1    149.5    345.3    260.1     4.3   \n",
       "\n",
       "country     Antigua and Barbuda  Argentina  Armenia  Australia  Austria  ...  \\\n",
       "date                                                                     ...   \n",
       "2020-01-22                  NaN        NaN      NaN        NaN      NaN  ...   \n",
       "2020-01-23                  NaN        NaN      NaN        NaN      NaN  ...   \n",
       "2020-01-24                  NaN        NaN      NaN        NaN      NaN  ...   \n",
       "2020-01-25                  NaN        NaN      NaN        NaN      NaN  ...   \n",
       "2020-01-26                  NaN        NaN      NaN        NaN      NaN  ...   \n",
       "...                         ...        ...      ...        ...      ...  ...   \n",
       "2020-03-25                  2.3      272.1    213.7     1647.5   4318.7  ...   \n",
       "2020-03-26                  3.5      327.9    236.1     1964.9   5108.9  ...   \n",
       "2020-03-27                  4.7      376.9    257.7     2261.3   5872.3  ...   \n",
       "2020-03-28                  5.5      438.1    286.3     2620.3   6579.1  ...   \n",
       "2020-03-29                  6.3      503.1    317.5     2980.9   7174.5  ...   \n",
       "\n",
       "country     Ukraine  United Arab Emirates  United Kingdom  Uruguay  \\\n",
       "date                                                                 \n",
       "2020-01-22      NaN                   NaN             NaN      NaN   \n",
       "2020-01-23      NaN                   NaN             NaN      NaN   \n",
       "2020-01-24      NaN                   NaN             NaN      NaN   \n",
       "2020-01-25      NaN                   NaN             NaN      NaN   \n",
       "2020-01-26      NaN                   NaN             NaN      NaN   \n",
       "...             ...                   ...             ...      ...   \n",
       "2020-03-25     82.7                 172.9          6624.1    156.3   \n",
       "2020-03-26    112.1                 206.1          7887.3    177.7   \n",
       "2020-03-27    158.3                 253.7          9574.7    193.7   \n",
       "2020-03-28    212.9                 304.9         11538.1    216.1   \n",
       "2020-03-29    286.1                 366.5         13697.5    244.3   \n",
       "\n",
       "country     Uzbekistan  Venezuela  Vietnam  West Bank and Gaza  Zambia  \\\n",
       "date                                                                     \n",
       "2020-01-22         NaN        NaN      NaN                 NaN     NaN   \n",
       "2020-01-23         NaN        NaN      NaN                 NaN     NaN   \n",
       "2020-01-24         NaN        NaN      NaN                 NaN     NaN   \n",
       "2020-01-25         NaN        NaN      NaN                 NaN     NaN   \n",
       "2020-01-26         NaN        NaN      NaN                 NaN     NaN   \n",
       "...                ...        ...      ...                 ...     ...   \n",
       "2020-03-25        48.5       66.5    104.1                38.5     4.7   \n",
       "2020-03-26        54.9       70.9    115.3                45.5     7.5   \n",
       "2020-03-27        62.7       74.9    124.7                53.1    11.3   \n",
       "2020-03-28        72.9       78.1    134.1                60.5    16.3   \n",
       "2020-03-29        89.9       79.9    143.3                70.1    21.5   \n",
       "\n",
       "country     Zimbabwe  \n",
       "date                  \n",
       "2020-01-22       NaN  \n",
       "2020-01-23       NaN  \n",
       "2020-01-24       NaN  \n",
       "2020-01-25       NaN  \n",
       "2020-01-26       NaN  \n",
       "...              ...  \n",
       "2020-03-25       2.5  \n",
       "2020-03-26       2.3  \n",
       "2020-03-27       2.5  \n",
       "2020-03-28       3.3  \n",
       "2020-03-29       4.1  \n",
       "\n",
       "[68 rows x 177 columns]"
      ]
     },
     "execution_count": 397,
     "metadata": {},
     "output_type": "execute_result"
    }
   ],
   "source": [
    "active"
   ]
  },
  {
   "cell_type": "code",
   "execution_count": 579,
   "metadata": {},
   "outputs": [
    {
     "data": {
      "text/html": [
       "<div>\n",
       "<style scoped>\n",
       "    .dataframe tbody tr th:only-of-type {\n",
       "        vertical-align: middle;\n",
       "    }\n",
       "\n",
       "    .dataframe tbody tr th {\n",
       "        vertical-align: top;\n",
       "    }\n",
       "\n",
       "    .dataframe thead th {\n",
       "        text-align: right;\n",
       "    }\n",
       "</style>\n",
       "<table border=\"1\" class=\"dataframe\">\n",
       "  <thead>\n",
       "    <tr style=\"text-align: right;\">\n",
       "      <th></th>\n",
       "      <th></th>\n",
       "      <th>log_total_active</th>\n",
       "      <th>log_growth</th>\n",
       "      <th>log_growth_3d</th>\n",
       "      <th>log_growth_7d</th>\n",
       "      <th>log_growth_3d_ago</th>\n",
       "    </tr>\n",
       "    <tr>\n",
       "      <th>date</th>\n",
       "      <th>country</th>\n",
       "      <th></th>\n",
       "      <th></th>\n",
       "      <th></th>\n",
       "      <th></th>\n",
       "      <th></th>\n",
       "    </tr>\n",
       "  </thead>\n",
       "  <tbody>\n",
       "    <tr>\n",
       "      <th rowspan=\"5\" valign=\"top\">2020-02-02</th>\n",
       "      <th>China</th>\n",
       "      <td>0.504488</td>\n",
       "      <td>0.235355</td>\n",
       "      <td>0.752653</td>\n",
       "      <td>2.257651</td>\n",
       "      <td>0.321892</td>\n",
       "    </tr>\n",
       "    <tr>\n",
       "      <th>Japan</th>\n",
       "      <td>0.383324</td>\n",
       "      <td>0.210451</td>\n",
       "      <td>0.876930</td>\n",
       "      <td>1.784487</td>\n",
       "      <td>0.329479</td>\n",
       "    </tr>\n",
       "    <tr>\n",
       "      <th>Korea, South</th>\n",
       "      <td>0.484680</td>\n",
       "      <td>0.269920</td>\n",
       "      <td>0.869038</td>\n",
       "      <td>1.588161</td>\n",
       "      <td>0.108214</td>\n",
       "    </tr>\n",
       "    <tr>\n",
       "      <th>Taiwan*</th>\n",
       "      <td>0.061244</td>\n",
       "      <td>0.043017</td>\n",
       "      <td>0.319770</td>\n",
       "      <td>1.335001</td>\n",
       "      <td>0.191055</td>\n",
       "    </tr>\n",
       "    <tr>\n",
       "      <th>Thailand</th>\n",
       "      <td>0.456483</td>\n",
       "      <td>0.086260</td>\n",
       "      <td>0.426343</td>\n",
       "      <td>0.945643</td>\n",
       "      <td>0.051960</td>\n",
       "    </tr>\n",
       "    <tr>\n",
       "      <th>...</th>\n",
       "      <th>...</th>\n",
       "      <td>...</td>\n",
       "      <td>...</td>\n",
       "      <td>...</td>\n",
       "      <td>...</td>\n",
       "      <td>...</td>\n",
       "    </tr>\n",
       "    <tr>\n",
       "      <th rowspan=\"5\" valign=\"top\">2020-03-29</th>\n",
       "      <th>Uzbekistan</th>\n",
       "      <td>0.471810</td>\n",
       "      <td>0.209609</td>\n",
       "      <td>0.493185</td>\n",
       "      <td>1.048710</td>\n",
       "      <td>0.123950</td>\n",
       "    </tr>\n",
       "    <tr>\n",
       "      <th>Venezuela</th>\n",
       "      <td>0.399188</td>\n",
       "      <td>0.022786</td>\n",
       "      <td>0.119505</td>\n",
       "      <td>0.486917</td>\n",
       "      <td>0.064068</td>\n",
       "    </tr>\n",
       "    <tr>\n",
       "      <th>Vietnam</th>\n",
       "      <td>0.272033</td>\n",
       "      <td>0.066355</td>\n",
       "      <td>0.217403</td>\n",
       "      <td>0.643460</td>\n",
       "      <td>0.102185</td>\n",
       "    </tr>\n",
       "    <tr>\n",
       "      <th>West Bank and Gaza</th>\n",
       "      <td>0.442342</td>\n",
       "      <td>0.147279</td>\n",
       "      <td>0.432210</td>\n",
       "      <td>0.658105</td>\n",
       "      <td>0.167054</td>\n",
       "    </tr>\n",
       "    <tr>\n",
       "      <th>Zambia</th>\n",
       "      <td>0.302685</td>\n",
       "      <td>0.276888</td>\n",
       "      <td>1.053150</td>\n",
       "      <td>2.235144</td>\n",
       "      <td>0.467341</td>\n",
       "    </tr>\n",
       "  </tbody>\n",
       "</table>\n",
       "<p>2994 rows × 5 columns</p>\n",
       "</div>"
      ],
      "text/plain": [
       "                               log_total_active  log_growth  log_growth_3d  \\\n",
       "date       country                                                           \n",
       "2020-02-02 China                       0.504488    0.235355       0.752653   \n",
       "           Japan                       0.383324    0.210451       0.876930   \n",
       "           Korea, South                0.484680    0.269920       0.869038   \n",
       "           Taiwan*                     0.061244    0.043017       0.319770   \n",
       "           Thailand                    0.456483    0.086260       0.426343   \n",
       "...                                         ...         ...            ...   \n",
       "2020-03-29 Uzbekistan                  0.471810    0.209609       0.493185   \n",
       "           Venezuela                   0.399188    0.022786       0.119505   \n",
       "           Vietnam                     0.272033    0.066355       0.217403   \n",
       "           West Bank and Gaza          0.442342    0.147279       0.432210   \n",
       "           Zambia                      0.302685    0.276888       1.053150   \n",
       "\n",
       "                               log_growth_7d  log_growth_3d_ago  \n",
       "date       country                                               \n",
       "2020-02-02 China                    2.257651           0.321892  \n",
       "           Japan                    1.784487           0.329479  \n",
       "           Korea, South             1.588161           0.108214  \n",
       "           Taiwan*                  1.335001           0.191055  \n",
       "           Thailand                 0.945643           0.051960  \n",
       "...                                      ...                ...  \n",
       "2020-03-29 Uzbekistan               1.048710           0.123950  \n",
       "           Venezuela                0.486917           0.064068  \n",
       "           Vietnam                  0.643460           0.102185  \n",
       "           West Bank and Gaza       0.658105           0.167054  \n",
       "           Zambia                   2.235144           0.467341  \n",
       "\n",
       "[2994 rows x 5 columns]"
      ]
     },
     "execution_count": 579,
     "metadata": {},
     "output_type": "execute_result"
    }
   ],
   "source": [
    "smooth = 10\n",
    "features = pd.concat(\n",
    "    [\n",
    "#         np.log(active).stack().rename(\"log_active\"),\n",
    "#         np.log(total).stack().rename(\"log_total\"),\n",
    "        (np.log(total) - np.log(active)).stack().rename(\"log_total_active\"),\n",
    "        np.log(active).diff(1).stack().rename(\"log_growth\"),\n",
    "        np.log(active).diff(3).stack().rename(\"log_growth_3d\"),\n",
    "        np.log(active).diff(7).stack().rename(\"log_growth_7d\"),\n",
    "        np.log(active).diff(1).shift(3).stack().rename(\"log_growth_3d_ago\"),\n",
    "#         np.log(deaths).stack().rename(\"log_deaths\"),\n",
    "#         (np.log(recovered) - np.log(deaths)).stack().rename(\"log_recovered_deaths\")\n",
    "    ],\n",
    "    axis=1\n",
    ")\n",
    "features = features.sort_index()\n",
    "# features_scaled = features.replace([-np.inf, np.inf], np.nan).fillna(method=\"backfill\")\n",
    "features_scaled = features\n",
    "features_scaled = features_scaled.dropna()\n",
    "features_scaled"
   ]
  },
  {
   "cell_type": "code",
   "execution_count": 580,
   "metadata": {},
   "outputs": [],
   "source": [
    "features_scaled = (features_scaled - features_scaled.mean())/features_scaled.std()"
   ]
  },
  {
   "cell_type": "code",
   "execution_count": 581,
   "metadata": {},
   "outputs": [],
   "source": [
    "# fig = px.scatter_matrix(\n",
    "#     features.sample(100).reset_index(),\n",
    "#     dimensions=features.columns,\n",
    "#     color=geo_level,\n",
    "# )\n",
    "# fig.show()"
   ]
  },
  {
   "cell_type": "code",
   "execution_count": 582,
   "metadata": {},
   "outputs": [
    {
     "data": {
      "text/plain": [
       "<seaborn.axisgrid.PairGrid at 0x7ff1d85d2978>"
      ]
     },
     "execution_count": 582,
     "metadata": {},
     "output_type": "execute_result"
    },
    {
     "data": {
      "image/png": "[encoded data removed]",
      "text/plain": [
       "<Figure size 900x900 with 20 Axes>"
      ]
     },
     "metadata": {
      "needs_background": "light"
     },
     "output_type": "display_data"
    }
   ],
   "source": [
    "sns.pairplot(\n",
    "    features_scaled.sample(100).reset_index(),\n",
    "    vars=features.columns,\n",
    "#     hue=geo_level,\n",
    "#     diag_kind=\"kde\",\n",
    "#     kind=\"reg\",\n",
    "    corner=True\n",
    ")"
   ]
  },
  {
   "cell_type": "markdown",
   "metadata": {},
   "source": [
    "# Split data into train and test"
   ]
  },
  {
   "cell_type": "code",
   "execution_count": 583,
   "metadata": {},
   "outputs": [],
   "source": [
    "train = features_scaled.loc[:\"2020-02-28\"]\n",
    "test = features_scaled.loc[\"2020-03-01\":\"2020-03-20\"]"
   ]
  },
  {
   "cell_type": "markdown",
   "metadata": {},
   "source": [
    "## Encoding\n",
    "\n",
    "- PCA"
   ]
  },
  {
   "cell_type": "code",
   "execution_count": 584,
   "metadata": {},
   "outputs": [],
   "source": [
    "from sklearn.decomposition import PCA"
   ]
  },
  {
   "cell_type": "code",
   "execution_count": 585,
   "metadata": {},
   "outputs": [],
   "source": [
    "encoder = PCA(n_components=2, whiten=True)"
   ]
  },
  {
   "cell_type": "code",
   "execution_count": 586,
   "metadata": {},
   "outputs": [
    {
     "data": {
      "text/plain": [
       "PCA(copy=True, iterated_power='auto', n_components=2, random_state=None,\n",
       "    svd_solver='auto', tol=0.0, whiten=True)"
      ]
     },
     "execution_count": 586,
     "metadata": {},
     "output_type": "execute_result"
    }
   ],
   "source": [
    "encoder.fit(train)"
   ]
  },
  {
   "cell_type": "code",
   "execution_count": 587,
   "metadata": {},
   "outputs": [
    {
     "data": {
      "text/plain": [
       "array([0.52484936, 0.36899794])"
      ]
     },
     "execution_count": 587,
     "metadata": {},
     "output_type": "execute_result"
    }
   ],
   "source": [
    "encoder.explained_variance_ratio_"
   ]
  },
  {
   "cell_type": "code",
   "execution_count": 588,
   "metadata": {},
   "outputs": [],
   "source": [
    "# train_encoding = pd.DataFrame(encoder.transform(train), index=train.index)\n",
    "# test_encoding = pd.DataFrame(encoder.transform(test), index=test.index)\n",
    "\n",
    "train_encoding = train\n",
    "test_encoding = test"
   ]
  },
  {
   "cell_type": "code",
   "execution_count": 589,
   "metadata": {},
   "outputs": [
    {
     "data": {
      "text/plain": [
       "<seaborn.axisgrid.PairGrid at 0x7ff1d8cb4898>"
      ]
     },
     "execution_count": 589,
     "metadata": {},
     "output_type": "execute_result"
    },
    {
     "data": {
      "image/png": "[encoded data removed]",
      "text/plain": [
       "<Figure size 900x900 with 20 Axes>"
      ]
     },
     "metadata": {
      "needs_background": "light"
     },
     "output_type": "display_data"
    }
   ],
   "source": [
    "sample = train_encoding.sample(100)\n",
    "sns.pairplot(\n",
    "    sample.reset_index(),\n",
    "    vars=sample.columns,\n",
    "#     hue=geo_level,\n",
    "    corner=True\n",
    ")"
   ]
  },
  {
   "cell_type": "code",
   "execution_count": 590,
   "metadata": {},
   "outputs": [],
   "source": [
    "from sklearn.neighbors import NearestNeighbors"
   ]
  },
  {
   "cell_type": "code",
   "execution_count": 591,
   "metadata": {},
   "outputs": [
    {
     "data": {
      "text/plain": [
       "NearestNeighbors(algorithm='auto', leaf_size=30, metric='minkowski',\n",
       "                 metric_params=None, n_jobs=None, n_neighbors=5, p=2,\n",
       "                 radius=1.0)"
      ]
     },
     "execution_count": 591,
     "metadata": {},
     "output_type": "execute_result"
    }
   ],
   "source": [
    "nn = NearestNeighbors(n_neighbors=5)\n",
    "nn.fit(train_encoding)"
   ]
  },
  {
   "cell_type": "code",
   "execution_count": 592,
   "metadata": {},
   "outputs": [
    {
     "data": {
      "text/html": [
       "<div>\n",
       "<style scoped>\n",
       "    .dataframe tbody tr th:only-of-type {\n",
       "        vertical-align: middle;\n",
       "    }\n",
       "\n",
       "    .dataframe tbody tr th {\n",
       "        vertical-align: top;\n",
       "    }\n",
       "\n",
       "    .dataframe thead th {\n",
       "        text-align: right;\n",
       "    }\n",
       "</style>\n",
       "<table border=\"1\" class=\"dataframe\">\n",
       "  <thead>\n",
       "    <tr style=\"text-align: right;\">\n",
       "      <th></th>\n",
       "      <th></th>\n",
       "      <th>log_total_active</th>\n",
       "      <th>log_growth</th>\n",
       "      <th>log_growth_3d</th>\n",
       "      <th>log_growth_7d</th>\n",
       "      <th>log_growth_3d_ago</th>\n",
       "    </tr>\n",
       "    <tr>\n",
       "      <th>date</th>\n",
       "      <th>country</th>\n",
       "      <th></th>\n",
       "      <th></th>\n",
       "      <th></th>\n",
       "      <th></th>\n",
       "      <th></th>\n",
       "    </tr>\n",
       "  </thead>\n",
       "  <tbody>\n",
       "    <tr>\n",
       "      <th>2020-03-18</th>\n",
       "      <th>Georgia</th>\n",
       "      <td>-0.781982</td>\n",
       "      <td>-0.390455</td>\n",
       "      <td>-0.564071</td>\n",
       "      <td>-0.294205</td>\n",
       "      <td>-0.098854</td>\n",
       "    </tr>\n",
       "  </tbody>\n",
       "</table>\n",
       "</div>"
      ],
      "text/plain": [
       "                    log_total_active  log_growth  log_growth_3d  \\\n",
       "date       country                                                \n",
       "2020-03-18 Georgia         -0.781982   -0.390455      -0.564071   \n",
       "\n",
       "                    log_growth_7d  log_growth_3d_ago  \n",
       "date       country                                    \n",
       "2020-03-18 Georgia      -0.294205          -0.098854  "
      ]
     },
     "execution_count": 592,
     "metadata": {},
     "output_type": "execute_result"
    }
   ],
   "source": [
    "guy = test_encoding.sample(1)\n",
    "ds, neighs = nn.kneighbors(np.atleast_2d(guy.values))\n",
    "test.loc[guy.index]"
   ]
  },
  {
   "cell_type": "code",
   "execution_count": 593,
   "metadata": {},
   "outputs": [
    {
     "data": {
      "text/plain": [
       "[0.1345528997782088,\n",
       " 0.25285700345728535,\n",
       " 0.25733174090103467,\n",
       " 0.26669670547089225,\n",
       " 0.29968857598142057]"
      ]
     },
     "execution_count": 593,
     "metadata": {},
     "output_type": "execute_result"
    }
   ],
   "source": [
    "ds.flatten().tolist()"
   ]
  },
  {
   "cell_type": "code",
   "execution_count": 594,
   "metadata": {},
   "outputs": [
    {
     "data": {
      "text/plain": [
       "[87, 35, 53, 434, 120]"
      ]
     },
     "execution_count": 594,
     "metadata": {},
     "output_type": "execute_result"
    }
   ],
   "source": [
    "neighs.flatten().tolist()"
   ]
  },
  {
   "cell_type": "code",
   "execution_count": 595,
   "metadata": {},
   "outputs": [
    {
     "data": {
      "text/html": [
       "<div>\n",
       "<style scoped>\n",
       "    .dataframe tbody tr th:only-of-type {\n",
       "        vertical-align: middle;\n",
       "    }\n",
       "\n",
       "    .dataframe tbody tr th {\n",
       "        vertical-align: top;\n",
       "    }\n",
       "\n",
       "    .dataframe thead th {\n",
       "        text-align: right;\n",
       "    }\n",
       "</style>\n",
       "<table border=\"1\" class=\"dataframe\">\n",
       "  <thead>\n",
       "    <tr style=\"text-align: right;\">\n",
       "      <th></th>\n",
       "      <th>date</th>\n",
       "      <th>country</th>\n",
       "      <th>date_end</th>\n",
       "    </tr>\n",
       "  </thead>\n",
       "  <tbody>\n",
       "    <tr>\n",
       "      <th>0</th>\n",
       "      <td>2020-02-09</td>\n",
       "      <td>Korea, South</td>\n",
       "      <td>2020-02-23</td>\n",
       "    </tr>\n",
       "    <tr>\n",
       "      <th>1</th>\n",
       "      <td>2020-02-06</td>\n",
       "      <td>Canada</td>\n",
       "      <td>2020-02-20</td>\n",
       "    </tr>\n",
       "    <tr>\n",
       "      <th>2</th>\n",
       "      <td>2020-02-07</td>\n",
       "      <td>Japan</td>\n",
       "      <td>2020-02-21</td>\n",
       "    </tr>\n",
       "    <tr>\n",
       "      <th>3</th>\n",
       "      <td>2020-02-23</td>\n",
       "      <td>Diamond Princess</td>\n",
       "      <td>2020-03-08</td>\n",
       "    </tr>\n",
       "    <tr>\n",
       "      <th>4</th>\n",
       "      <td>2020-02-11</td>\n",
       "      <td>China</td>\n",
       "      <td>2020-02-25</td>\n",
       "    </tr>\n",
       "  </tbody>\n",
       "</table>\n",
       "</div>"
      ],
      "text/plain": [
       "        date           country   date_end\n",
       "0 2020-02-09      Korea, South 2020-02-23\n",
       "1 2020-02-06            Canada 2020-02-20\n",
       "2 2020-02-07             Japan 2020-02-21\n",
       "3 2020-02-23  Diamond Princess 2020-03-08\n",
       "4 2020-02-11             China 2020-02-25"
      ]
     },
     "execution_count": 595,
     "metadata": {},
     "output_type": "execute_result"
    }
   ],
   "source": [
    "histories = train.iloc[neighs.flatten().tolist()].index.to_frame().reset_index(drop=True)\n",
    "histories[\"date_end\"] = histories[\"date\"] + pd.DateOffset(14)\n",
    "histories"
   ]
  },
  {
   "cell_type": "code",
   "execution_count": 596,
   "metadata": {},
   "outputs": [],
   "source": [
    "# sections = []\n",
    "# for i, (date_start, region, date_end) in histories.iterrows():\n",
    "#     a = features.loc[(slice(date_start, date_end), region), \"log_growth\"].rename(str(date_start.date()) + \"-\" + region)\n",
    "#     sections.append(a)"
   ]
  },
  {
   "cell_type": "code",
   "execution_count": 597,
   "metadata": {},
   "outputs": [],
   "source": [
    "sections = [\n",
    "    features.loc[(slice(date_start, date_end), region), \"log_growth\"]\n",
    "    .rename(str(date_start.date()) + \"-\" + region)\n",
    "    .reset_index(drop=True)\n",
    "    for i, (date_start, region, date_end) in histories.iterrows()\n",
    "]"
   ]
  },
  {
   "cell_type": "code",
   "execution_count": 598,
   "metadata": {},
   "outputs": [],
   "source": [
    "sims = pd.concat(sections, axis=1)\n",
    "sims[\"prediction\"] = sims.mean(axis=1)"
   ]
  },
  {
   "cell_type": "code",
   "execution_count": 599,
   "metadata": {},
   "outputs": [],
   "source": [
    "true_range = guy.index.to_frame().reset_index(drop=True)\n",
    "true_range[\"date_end\"] = true_range[\"date\"] + pd.DateOffset(14)\n",
    "date_start, region, date_end = true_range.iloc[0].values\n",
    "sims[\"truth\"] = features.loc[(slice(date_start, date_end), region), \"log_growth\"].reset_index(drop=True)"
   ]
  },
  {
   "cell_type": "code",
   "execution_count": 600,
   "metadata": {},
   "outputs": [
    {
     "data": {
      "text/html": [
       "<div>\n",
       "<style scoped>\n",
       "    .dataframe tbody tr th:only-of-type {\n",
       "        vertical-align: middle;\n",
       "    }\n",
       "\n",
       "    .dataframe tbody tr th {\n",
       "        vertical-align: top;\n",
       "    }\n",
       "\n",
       "    .dataframe thead th {\n",
       "        text-align: right;\n",
       "    }\n",
       "</style>\n",
       "<table border=\"1\" class=\"dataframe\">\n",
       "  <thead>\n",
       "    <tr style=\"text-align: right;\">\n",
       "      <th></th>\n",
       "      <th>2020-02-09-Korea, South</th>\n",
       "      <th>2020-02-06-Canada</th>\n",
       "      <th>2020-02-07-Japan</th>\n",
       "      <th>2020-02-23-Diamond Princess</th>\n",
       "      <th>2020-02-11-China</th>\n",
       "      <th>prediction</th>\n",
       "      <th>truth</th>\n",
       "    </tr>\n",
       "  </thead>\n",
       "  <tbody>\n",
       "    <tr>\n",
       "      <th>0</th>\n",
       "      <td>1.057416</td>\n",
       "      <td>1.046512</td>\n",
       "      <td>1.049261</td>\n",
       "      <td>1.047783</td>\n",
       "      <td>1.061059</td>\n",
       "      <td>1.052390</td>\n",
       "      <td>1.078176</td>\n",
       "    </tr>\n",
       "    <tr>\n",
       "      <th>1</th>\n",
       "      <td>1.105263</td>\n",
       "      <td>1.186047</td>\n",
       "      <td>1.098522</td>\n",
       "      <td>1.070038</td>\n",
       "      <td>1.104127</td>\n",
       "      <td>1.112138</td>\n",
       "      <td>1.136808</td>\n",
       "    </tr>\n",
       "    <tr>\n",
       "      <th>2</th>\n",
       "      <td>1.124402</td>\n",
       "      <td>1.325581</td>\n",
       "      <td>1.137931</td>\n",
       "      <td>1.088693</td>\n",
       "      <td>1.217676</td>\n",
       "      <td>1.175916</td>\n",
       "      <td>1.195440</td>\n",
       "    </tr>\n",
       "    <tr>\n",
       "      <th>3</th>\n",
       "      <td>1.105263</td>\n",
       "      <td>1.465116</td>\n",
       "      <td>1.147783</td>\n",
       "      <td>1.108329</td>\n",
       "      <td>1.344800</td>\n",
       "      <td>1.226041</td>\n",
       "      <td>1.299674</td>\n",
       "    </tr>\n",
       "    <tr>\n",
       "      <th>4</th>\n",
       "      <td>1.086124</td>\n",
       "      <td>1.558140</td>\n",
       "      <td>1.108374</td>\n",
       "      <td>1.127966</td>\n",
       "      <td>1.465151</td>\n",
       "      <td>1.253921</td>\n",
       "      <td>1.416938</td>\n",
       "    </tr>\n",
       "    <tr>\n",
       "      <th>5</th>\n",
       "      <td>1.076555</td>\n",
       "      <td>1.651163</td>\n",
       "      <td>1.059113</td>\n",
       "      <td>1.128293</td>\n",
       "      <td>1.581453</td>\n",
       "      <td>1.274234</td>\n",
       "      <td>1.553746</td>\n",
       "    </tr>\n",
       "    <tr>\n",
       "      <th>6</th>\n",
       "      <td>1.028708</td>\n",
       "      <td>1.604651</td>\n",
       "      <td>1.000000</td>\n",
       "      <td>1.128621</td>\n",
       "      <td>1.698920</td>\n",
       "      <td>1.259154</td>\n",
       "      <td>1.697068</td>\n",
       "    </tr>\n",
       "    <tr>\n",
       "      <th>7</th>\n",
       "      <td>0.980861</td>\n",
       "      <td>1.558140</td>\n",
       "      <td>0.940887</td>\n",
       "      <td>1.128948</td>\n",
       "      <td>1.733130</td>\n",
       "      <td>1.229847</td>\n",
       "      <td>1.846906</td>\n",
       "    </tr>\n",
       "    <tr>\n",
       "      <th>8</th>\n",
       "      <td>0.971292</td>\n",
       "      <td>1.511628</td>\n",
       "      <td>1.019704</td>\n",
       "      <td>1.128293</td>\n",
       "      <td>1.731213</td>\n",
       "      <td>1.239391</td>\n",
       "      <td>1.977199</td>\n",
       "    </tr>\n",
       "    <tr>\n",
       "      <th>9</th>\n",
       "      <td>0.952153</td>\n",
       "      <td>1.465116</td>\n",
       "      <td>1.305419</td>\n",
       "      <td>1.127966</td>\n",
       "      <td>1.715427</td>\n",
       "      <td>1.286469</td>\n",
       "      <td>2.094463</td>\n",
       "    </tr>\n",
       "    <tr>\n",
       "      <th>10</th>\n",
       "      <td>0.933014</td>\n",
       "      <td>1.418605</td>\n",
       "      <td>1.640394</td>\n",
       "      <td>1.128293</td>\n",
       "      <td>1.695092</td>\n",
       "      <td>1.329421</td>\n",
       "      <td>2.211726</td>\n",
       "    </tr>\n",
       "    <tr>\n",
       "      <th>11</th>\n",
       "      <td>1.583732</td>\n",
       "      <td>1.465116</td>\n",
       "      <td>2.054187</td>\n",
       "      <td>1.128621</td>\n",
       "      <td>1.657541</td>\n",
       "      <td>1.548964</td>\n",
       "      <td>2.289902</td>\n",
       "    </tr>\n",
       "    <tr>\n",
       "      <th>12</th>\n",
       "      <td>3.172249</td>\n",
       "      <td>1.511628</td>\n",
       "      <td>2.507389</td>\n",
       "      <td>1.119129</td>\n",
       "      <td>1.617808</td>\n",
       "      <td>1.851690</td>\n",
       "      <td>NaN</td>\n",
       "    </tr>\n",
       "    <tr>\n",
       "      <th>13</th>\n",
       "      <td>6.952153</td>\n",
       "      <td>1.558140</td>\n",
       "      <td>2.950739</td>\n",
       "      <td>1.109638</td>\n",
       "      <td>1.576285</td>\n",
       "      <td>2.236117</td>\n",
       "      <td>NaN</td>\n",
       "    </tr>\n",
       "    <tr>\n",
       "      <th>14</th>\n",
       "      <td>12.301435</td>\n",
       "      <td>1.604651</td>\n",
       "      <td>3.305419</td>\n",
       "      <td>1.099820</td>\n",
       "      <td>1.531745</td>\n",
       "      <td>2.559848</td>\n",
       "      <td>NaN</td>\n",
       "    </tr>\n",
       "  </tbody>\n",
       "</table>\n",
       "</div>"
      ],
      "text/plain": [
       "    2020-02-09-Korea, South  2020-02-06-Canada  2020-02-07-Japan  \\\n",
       "0                  1.057416           1.046512          1.049261   \n",
       "1                  1.105263           1.186047          1.098522   \n",
       "2                  1.124402           1.325581          1.137931   \n",
       "3                  1.105263           1.465116          1.147783   \n",
       "4                  1.086124           1.558140          1.108374   \n",
       "5                  1.076555           1.651163          1.059113   \n",
       "6                  1.028708           1.604651          1.000000   \n",
       "7                  0.980861           1.558140          0.940887   \n",
       "8                  0.971292           1.511628          1.019704   \n",
       "9                  0.952153           1.465116          1.305419   \n",
       "10                 0.933014           1.418605          1.640394   \n",
       "11                 1.583732           1.465116          2.054187   \n",
       "12                 3.172249           1.511628          2.507389   \n",
       "13                 6.952153           1.558140          2.950739   \n",
       "14                12.301435           1.604651          3.305419   \n",
       "\n",
       "    2020-02-23-Diamond Princess  2020-02-11-China  prediction     truth  \n",
       "0                      1.047783          1.061059    1.052390  1.078176  \n",
       "1                      1.070038          1.104127    1.112138  1.136808  \n",
       "2                      1.088693          1.217676    1.175916  1.195440  \n",
       "3                      1.108329          1.344800    1.226041  1.299674  \n",
       "4                      1.127966          1.465151    1.253921  1.416938  \n",
       "5                      1.128293          1.581453    1.274234  1.553746  \n",
       "6                      1.128621          1.698920    1.259154  1.697068  \n",
       "7                      1.128948          1.733130    1.229847  1.846906  \n",
       "8                      1.128293          1.731213    1.239391  1.977199  \n",
       "9                      1.127966          1.715427    1.286469  2.094463  \n",
       "10                     1.128293          1.695092    1.329421  2.211726  \n",
       "11                     1.128621          1.657541    1.548964  2.289902  \n",
       "12                     1.119129          1.617808    1.851690       NaN  \n",
       "13                     1.109638          1.576285    2.236117       NaN  \n",
       "14                     1.099820          1.531745    2.559848       NaN  "
      ]
     },
     "execution_count": 600,
     "metadata": {},
     "output_type": "execute_result"
    }
   ],
   "source": [
    "# plot_interactive_df(sims).show()\n",
    "np.exp((sims).cumsum())"
   ]
  },
  {
   "cell_type": "code",
   "execution_count": 601,
   "metadata": {},
   "outputs": [
    {
     "data": {
      "application/vnd.plotly.v1+json": {
       "config": {
        "plotlyServerURL": "https://plot.ly"
       },
       "data": [
        {
         "hoverlabel": {
          "namelength": 0
         },
         "hovertemplate": "   =prediction<br>index=%{x}<br>value=%{y}",
         "legendgroup": "prediction",
         "line": {
          "color": "#636efa",
          "dash": "solid"
         },
         "mode": "lines",
         "name": "prediction",
         "showlegend": true,
         "type": "scatter",
         "x": [
          0,
          1,
          2,
          3,
          4,
          5,
          6,
          7,
          8,
          9,
          10,
          11,
          12,
          13,
          14
         ],
         "xaxis": "x",
         "y": [
          0.05106415788965708,
          0.055220518308453,
          0.05576246148670201,
          0.041742743746744713,
          0.022485562978661645,
          0.01607013773764354,
          -0.011905793746878635,
          -0.02354963573929516,
          0.007729878832120507,
          0.037281379085028155,
          0.032842324828215606,
          0.15284228722949345,
          0.17851263136914777,
          0.18864222594246943,
          0.1352070359472553
         ],
         "yaxis": "y"
        },
        {
         "hoverlabel": {
          "namelength": 0
         },
         "hovertemplate": "   =truth<br>index=%{x}<br>value=%{y}",
         "legendgroup": "truth",
         "line": {
          "color": "#EF553B",
          "dash": "solid"
         },
         "mode": "lines",
         "name": "truth",
         "showlegend": true,
         "type": "scatter",
         "x": [
          0,
          1,
          2,
          3,
          4,
          5,
          6,
          7,
          8,
          9,
          10,
          11,
          12,
          13,
          14
         ],
         "xaxis": "x",
         "y": [
          0.07527062778986604,
          0.05295354682536413,
          0.0502899258521432,
          0.08359956883529307,
          0.08638461419882049,
          0.09217045979965732,
          0.08823355086502582,
          0.08460926197438523,
          0.06816948733174577,
          0.05761593317812164,
          0.05447640332107628,
          0.03473576425196878,
          null,
          null,
          null
         ],
         "yaxis": "y"
        }
       ],
       "layout": {
        "font": {
         "size": 16
        },
        "height": 600,
        "legend": {
         "bgcolor": "rgba(0,0,0,0)",
         "title": {
          "text": "   "
         },
         "tracegroupgap": 0,
         "x": 0,
         "y": 1
        },
        "margin": {
         "b": 0,
         "l": 0,
         "r": 0,
         "t": 0
        },
        "template": {
         "data": {
          "bar": [
           {
            "error_x": {
             "color": "#2a3f5f"
            },
            "error_y": {
             "color": "#2a3f5f"
            },
            "marker": {
             "line": {
              "color": "white",
              "width": 0.5
             }
            },
            "type": "bar"
           }
          ],
          "barpolar": [
           {
            "marker": {
             "line": {
              "color": "white",
              "width": 0.5
             }
            },
            "type": "barpolar"
           }
          ],
          "carpet": [
           {
            "aaxis": {
             "endlinecolor": "#2a3f5f",
             "gridcolor": "#C8D4E3",
             "linecolor": "#C8D4E3",
             "minorgridcolor": "#C8D4E3",
             "startlinecolor": "#2a3f5f"
            },
            "baxis": {
             "endlinecolor": "#2a3f5f",
             "gridcolor": "#C8D4E3",
             "linecolor": "#C8D4E3",
             "minorgridcolor": "#C8D4E3",
             "startlinecolor": "#2a3f5f"
            },
            "type": "carpet"
           }
          ],
          "choropleth": [
           {
            "colorbar": {
             "outlinewidth": 0,
             "ticks": ""
            },
            "type": "choropleth"
           }
          ],
          "contour": [
           {
            "colorbar": {
             "outlinewidth": 0,
             "ticks": ""
            },
            "colorscale": [
             [
              0,
              "#0d0887"
             ],
             [
              0.1111111111111111,
              "#46039f"
             ],
             [
              0.2222222222222222,
              "#7201a8"
             ],
             [
              0.3333333333333333,
              "#9c179e"
             ],
             [
              0.4444444444444444,
              "#bd3786"
             ],
             [
              0.5555555555555556,
              "#d8576b"
             ],
             [
              0.6666666666666666,
              "#ed7953"
             ],
             [
              0.7777777777777778,
              "#fb9f3a"
             ],
             [
              0.8888888888888888,
              "#fdca26"
             ],
             [
              1,
              "#f0f921"
             ]
            ],
            "type": "contour"
           }
          ],
          "contourcarpet": [
           {
            "colorbar": {
             "outlinewidth": 0,
             "ticks": ""
            },
            "type": "contourcarpet"
           }
          ],
          "heatmap": [
           {
            "colorbar": {
             "outlinewidth": 0,
             "ticks": ""
            },
            "colorscale": [
             [
              0,
              "#0d0887"
             ],
             [
              0.1111111111111111,
              "#46039f"
             ],
             [
              0.2222222222222222,
              "#7201a8"
             ],
             [
              0.3333333333333333,
              "#9c179e"
             ],
             [
              0.4444444444444444,
              "#bd3786"
             ],
             [
              0.5555555555555556,
              "#d8576b"
             ],
             [
              0.6666666666666666,
              "#ed7953"
             ],
             [
              0.7777777777777778,
              "#fb9f3a"
             ],
             [
              0.8888888888888888,
              "#fdca26"
             ],
             [
              1,
              "#f0f921"
             ]
            ],
            "type": "heatmap"
           }
          ],
          "heatmapgl": [
           {
            "colorbar": {
             "outlinewidth": 0,
             "ticks": ""
            },
            "colorscale": [
             [
              0,
              "#0d0887"
             ],
             [
              0.1111111111111111,
              "#46039f"
             ],
             [
              0.2222222222222222,
              "#7201a8"
             ],
             [
              0.3333333333333333,
              "#9c179e"
             ],
             [
              0.4444444444444444,
              "#bd3786"
             ],
             [
              0.5555555555555556,
              "#d8576b"
             ],
             [
              0.6666666666666666,
              "#ed7953"
             ],
             [
              0.7777777777777778,
              "#fb9f3a"
             ],
             [
              0.8888888888888888,
              "#fdca26"
             ],
             [
              1,
              "#f0f921"
             ]
            ],
            "type": "heatmapgl"
           }
          ],
          "histogram": [
           {
            "marker": {
             "colorbar": {
              "outlinewidth": 0,
              "ticks": ""
             }
            },
            "type": "histogram"
           }
          ],
          "histogram2d": [
           {
            "colorbar": {
             "outlinewidth": 0,
             "ticks": ""
            },
            "colorscale": [
             [
              0,
              "#0d0887"
             ],
             [
              0.1111111111111111,
              "#46039f"
             ],
             [
              0.2222222222222222,
              "#7201a8"
             ],
             [
              0.3333333333333333,
              "#9c179e"
             ],
             [
              0.4444444444444444,
              "#bd3786"
             ],
             [
              0.5555555555555556,
              "#d8576b"
             ],
             [
              0.6666666666666666,
              "#ed7953"
             ],
             [
              0.7777777777777778,
              "#fb9f3a"
             ],
             [
              0.8888888888888888,
              "#fdca26"
             ],
             [
              1,
              "#f0f921"
             ]
            ],
            "type": "histogram2d"
           }
          ],
          "histogram2dcontour": [
           {
            "colorbar": {
             "outlinewidth": 0,
             "ticks": ""
            },
            "colorscale": [
             [
              0,
              "#0d0887"
             ],
             [
              0.1111111111111111,
              "#46039f"
             ],
             [
              0.2222222222222222,
              "#7201a8"
             ],
             [
              0.3333333333333333,
              "#9c179e"
             ],
             [
              0.4444444444444444,
              "#bd3786"
             ],
             [
              0.5555555555555556,
              "#d8576b"
             ],
             [
              0.6666666666666666,
              "#ed7953"
             ],
             [
              0.7777777777777778,
              "#fb9f3a"
             ],
             [
              0.8888888888888888,
              "#fdca26"
             ],
             [
              1,
              "#f0f921"
             ]
            ],
            "type": "histogram2dcontour"
           }
          ],
          "mesh3d": [
           {
            "colorbar": {
             "outlinewidth": 0,
             "ticks": ""
            },
            "type": "mesh3d"
           }
          ],
          "parcoords": [
           {
            "line": {
             "colorbar": {
              "outlinewidth": 0,
              "ticks": ""
             }
            },
            "type": "parcoords"
           }
          ],
          "pie": [
           {
            "automargin": true,
            "type": "pie"
           }
          ],
          "scatter": [
           {
            "marker": {
             "colorbar": {
              "outlinewidth": 0,
              "ticks": ""
             }
            },
            "type": "scatter"
           }
          ],
          "scatter3d": [
           {
            "line": {
             "colorbar": {
              "outlinewidth": 0,
              "ticks": ""
             }
            },
            "marker": {
             "colorbar": {
              "outlinewidth": 0,
              "ticks": ""
             }
            },
            "type": "scatter3d"
           }
          ],
          "scattercarpet": [
           {
            "marker": {
             "colorbar": {
              "outlinewidth": 0,
              "ticks": ""
             }
            },
            "type": "scattercarpet"
           }
          ],
          "scattergeo": [
           {
            "marker": {
             "colorbar": {
              "outlinewidth": 0,
              "ticks": ""
             }
            },
            "type": "scattergeo"
           }
          ],
          "scattergl": [
           {
            "marker": {
             "colorbar": {
              "outlinewidth": 0,
              "ticks": ""
             }
            },
            "type": "scattergl"
           }
          ],
          "scattermapbox": [
           {
            "marker": {
             "colorbar": {
              "outlinewidth": 0,
              "ticks": ""
             }
            },
            "type": "scattermapbox"
           }
          ],
          "scatterpolar": [
           {
            "marker": {
             "colorbar": {
              "outlinewidth": 0,
              "ticks": ""
             }
            },
            "type": "scatterpolar"
           }
          ],
          "scatterpolargl": [
           {
            "marker": {
             "colorbar": {
              "outlinewidth": 0,
              "ticks": ""
             }
            },
            "type": "scatterpolargl"
           }
          ],
          "scatterternary": [
           {
            "marker": {
             "colorbar": {
              "outlinewidth": 0,
              "ticks": ""
             }
            },
            "type": "scatterternary"
           }
          ],
          "surface": [
           {
            "colorbar": {
             "outlinewidth": 0,
             "ticks": ""
            },
            "colorscale": [
             [
              0,
              "#0d0887"
             ],
             [
              0.1111111111111111,
              "#46039f"
             ],
             [
              0.2222222222222222,
              "#7201a8"
             ],
             [
              0.3333333333333333,
              "#9c179e"
             ],
             [
              0.4444444444444444,
              "#bd3786"
             ],
             [
              0.5555555555555556,
              "#d8576b"
             ],
             [
              0.6666666666666666,
              "#ed7953"
             ],
             [
              0.7777777777777778,
              "#fb9f3a"
             ],
             [
              0.8888888888888888,
              "#fdca26"
             ],
             [
              1,
              "#f0f921"
             ]
            ],
            "type": "surface"
           }
          ],
          "table": [
           {
            "cells": {
             "fill": {
              "color": "#EBF0F8"
             },
             "line": {
              "color": "white"
             }
            },
            "header": {
             "fill": {
              "color": "#C8D4E3"
             },
             "line": {
              "color": "white"
             }
            },
            "type": "table"
           }
          ]
         },
         "layout": {
          "annotationdefaults": {
           "arrowcolor": "#2a3f5f",
           "arrowhead": 0,
           "arrowwidth": 1
          },
          "coloraxis": {
           "colorbar": {
            "outlinewidth": 0,
            "ticks": ""
           }
          },
          "colorscale": {
           "diverging": [
            [
             0,
             "#8e0152"
            ],
            [
             0.1,
             "#c51b7d"
            ],
            [
             0.2,
             "#de77ae"
            ],
            [
             0.3,
             "#f1b6da"
            ],
            [
             0.4,
             "#fde0ef"
            ],
            [
             0.5,
             "#f7f7f7"
            ],
            [
             0.6,
             "#e6f5d0"
            ],
            [
             0.7,
             "#b8e186"
            ],
            [
             0.8,
             "#7fbc41"
            ],
            [
             0.9,
             "#4d9221"
            ],
            [
             1,
             "#276419"
            ]
           ],
           "sequential": [
            [
             0,
             "#0d0887"
            ],
            [
             0.1111111111111111,
             "#46039f"
            ],
            [
             0.2222222222222222,
             "#7201a8"
            ],
            [
             0.3333333333333333,
             "#9c179e"
            ],
            [
             0.4444444444444444,
             "#bd3786"
            ],
            [
             0.5555555555555556,
             "#d8576b"
            ],
            [
             0.6666666666666666,
             "#ed7953"
            ],
            [
             0.7777777777777778,
             "#fb9f3a"
            ],
            [
             0.8888888888888888,
             "#fdca26"
            ],
            [
             1,
             "#f0f921"
            ]
           ],
           "sequentialminus": [
            [
             0,
             "#0d0887"
            ],
            [
             0.1111111111111111,
             "#46039f"
            ],
            [
             0.2222222222222222,
             "#7201a8"
            ],
            [
             0.3333333333333333,
             "#9c179e"
            ],
            [
             0.4444444444444444,
             "#bd3786"
            ],
            [
             0.5555555555555556,
             "#d8576b"
            ],
            [
             0.6666666666666666,
             "#ed7953"
            ],
            [
             0.7777777777777778,
             "#fb9f3a"
            ],
            [
             0.8888888888888888,
             "#fdca26"
            ],
            [
             1,
             "#f0f921"
            ]
           ]
          },
          "colorway": [
           "#636efa",
           "#EF553B",
           "#00cc96",
           "#ab63fa",
           "#FFA15A",
           "#19d3f3",
           "#FF6692",
           "#B6E880",
           "#FF97FF",
           "#FECB52"
          ],
          "font": {
           "color": "#2a3f5f"
          },
          "geo": {
           "bgcolor": "white",
           "lakecolor": "white",
           "landcolor": "white",
           "showlakes": true,
           "showland": true,
           "subunitcolor": "#C8D4E3"
          },
          "hoverlabel": {
           "align": "left"
          },
          "hovermode": "closest",
          "mapbox": {
           "style": "light"
          },
          "paper_bgcolor": "white",
          "plot_bgcolor": "white",
          "polar": {
           "angularaxis": {
            "gridcolor": "#EBF0F8",
            "linecolor": "#EBF0F8",
            "ticks": ""
           },
           "bgcolor": "white",
           "radialaxis": {
            "gridcolor": "#EBF0F8",
            "linecolor": "#EBF0F8",
            "ticks": ""
           }
          },
          "scene": {
           "xaxis": {
            "backgroundcolor": "white",
            "gridcolor": "#DFE8F3",
            "gridwidth": 2,
            "linecolor": "#EBF0F8",
            "showbackground": true,
            "ticks": "",
            "zerolinecolor": "#EBF0F8"
           },
           "yaxis": {
            "backgroundcolor": "white",
            "gridcolor": "#DFE8F3",
            "gridwidth": 2,
            "linecolor": "#EBF0F8",
            "showbackground": true,
            "ticks": "",
            "zerolinecolor": "#EBF0F8"
           },
           "zaxis": {
            "backgroundcolor": "white",
            "gridcolor": "#DFE8F3",
            "gridwidth": 2,
            "linecolor": "#EBF0F8",
            "showbackground": true,
            "ticks": "",
            "zerolinecolor": "#EBF0F8"
           }
          },
          "shapedefaults": {
           "line": {
            "color": "#2a3f5f"
           }
          },
          "ternary": {
           "aaxis": {
            "gridcolor": "#DFE8F3",
            "linecolor": "#A2B1C6",
            "ticks": ""
           },
           "baxis": {
            "gridcolor": "#DFE8F3",
            "linecolor": "#A2B1C6",
            "ticks": ""
           },
           "bgcolor": "white",
           "caxis": {
            "gridcolor": "#DFE8F3",
            "linecolor": "#A2B1C6",
            "ticks": ""
           }
          },
          "title": {
           "x": 0.05
          },
          "xaxis": {
           "automargin": true,
           "gridcolor": "#EBF0F8",
           "linecolor": "#EBF0F8",
           "ticks": "",
           "title": {
            "standoff": 15
           },
           "zerolinecolor": "#EBF0F8",
           "zerolinewidth": 2
          },
          "yaxis": {
           "automargin": true,
           "gridcolor": "#EBF0F8",
           "linecolor": "#EBF0F8",
           "ticks": "",
           "title": {
            "standoff": 15
           },
           "zerolinecolor": "#EBF0F8",
           "zerolinewidth": 2
          }
         }
        },
        "xaxis": {
         "anchor": "y",
         "domain": [
          0,
          1
         ],
         "fixedrange": true,
         "title": {
          "text": "index"
         }
        },
        "yaxis": {
         "anchor": "x",
         "domain": [
          0,
          1
         ],
         "fixedrange": true,
         "side": "right",
         "title": {
          "text": "value"
         }
        }
       }
      },
      "text/html": [
       "<div>\n",
       "        \n",
       "        \n",
       "            <div id=\"14c3d622-9c32-4394-b240-3bd807ac0a3b\" class=\"plotly-graph-div\" style=\"height:600px; width:100%;\"></div>\n",
       "            <script type=\"text/javascript\">\n",
       "                require([\"plotly\"], function(Plotly) {\n",
       "                    window.PLOTLYENV=window.PLOTLYENV || {};\n",
       "                    \n",
       "                if (document.getElementById(\"14c3d622-9c32-4394-b240-3bd807ac0a3b\")) {\n",
       "                    Plotly.newPlot(\n",
       "                        '14c3d622-9c32-4394-b240-3bd807ac0a3b',\n",
       "                        [{\"hoverlabel\": {\"namelength\": 0}, \"hovertemplate\": \"   =prediction<br>index=%{x}<br>value=%{y}\", \"legendgroup\": \"prediction\", \"line\": {\"color\": \"#636efa\", \"dash\": \"solid\"}, \"mode\": \"lines\", \"name\": \"prediction\", \"showlegend\": true, \"type\": \"scatter\", \"x\": [0, 1, 2, 3, 4, 5, 6, 7, 8, 9, 10, 11, 12, 13, 14], \"xaxis\": \"x\", \"y\": [0.05106415788965708, 0.055220518308453, 0.05576246148670201, 0.041742743746744713, 0.022485562978661645, 0.01607013773764354, -0.011905793746878635, -0.02354963573929516, 0.007729878832120507, 0.037281379085028155, 0.032842324828215606, 0.15284228722949345, 0.17851263136914777, 0.18864222594246943, 0.1352070359472553], \"yaxis\": \"y\"}, {\"hoverlabel\": {\"namelength\": 0}, \"hovertemplate\": \"   =truth<br>index=%{x}<br>value=%{y}\", \"legendgroup\": \"truth\", \"line\": {\"color\": \"#EF553B\", \"dash\": \"solid\"}, \"mode\": \"lines\", \"name\": \"truth\", \"showlegend\": true, \"type\": \"scatter\", \"x\": [0, 1, 2, 3, 4, 5, 6, 7, 8, 9, 10, 11, 12, 13, 14], \"xaxis\": \"x\", \"y\": [0.07527062778986604, 0.05295354682536413, 0.0502899258521432, 0.08359956883529307, 0.08638461419882049, 0.09217045979965732, 0.08823355086502582, 0.08460926197438523, 0.06816948733174577, 0.05761593317812164, 0.05447640332107628, 0.03473576425196878, null, null, null], \"yaxis\": \"y\"}],\n",
       "                        {\"font\": {\"size\": 16}, \"height\": 600, \"legend\": {\"bgcolor\": \"rgba(0,0,0,0)\", \"title\": {\"text\": \"   \"}, \"tracegroupgap\": 0, \"x\": 0, \"y\": 1}, \"margin\": {\"b\": 0, \"l\": 0, \"r\": 0, \"t\": 0}, \"template\": {\"data\": {\"bar\": [{\"error_x\": {\"color\": \"#2a3f5f\"}, \"error_y\": {\"color\": \"#2a3f5f\"}, \"marker\": {\"line\": {\"color\": \"white\", \"width\": 0.5}}, \"type\": \"bar\"}], \"barpolar\": [{\"marker\": {\"line\": {\"color\": \"white\", \"width\": 0.5}}, \"type\": \"barpolar\"}], \"carpet\": [{\"aaxis\": {\"endlinecolor\": \"#2a3f5f\", \"gridcolor\": \"#C8D4E3\", \"linecolor\": \"#C8D4E3\", \"minorgridcolor\": \"#C8D4E3\", \"startlinecolor\": \"#2a3f5f\"}, \"baxis\": {\"endlinecolor\": \"#2a3f5f\", \"gridcolor\": \"#C8D4E3\", \"linecolor\": \"#C8D4E3\", \"minorgridcolor\": \"#C8D4E3\", \"startlinecolor\": \"#2a3f5f\"}, \"type\": \"carpet\"}], \"choropleth\": [{\"colorbar\": {\"outlinewidth\": 0, \"ticks\": \"\"}, \"type\": \"choropleth\"}], \"contour\": [{\"colorbar\": {\"outlinewidth\": 0, \"ticks\": \"\"}, \"colorscale\": [[0.0, \"#0d0887\"], [0.1111111111111111, \"#46039f\"], [0.2222222222222222, \"#7201a8\"], [0.3333333333333333, \"#9c179e\"], [0.4444444444444444, \"#bd3786\"], [0.5555555555555556, \"#d8576b\"], [0.6666666666666666, \"#ed7953\"], [0.7777777777777778, \"#fb9f3a\"], [0.8888888888888888, \"#fdca26\"], [1.0, \"#f0f921\"]], \"type\": \"contour\"}], \"contourcarpet\": [{\"colorbar\": {\"outlinewidth\": 0, \"ticks\": \"\"}, \"type\": \"contourcarpet\"}], \"heatmap\": [{\"colorbar\": {\"outlinewidth\": 0, \"ticks\": \"\"}, \"colorscale\": [[0.0, \"#0d0887\"], [0.1111111111111111, \"#46039f\"], [0.2222222222222222, \"#7201a8\"], [0.3333333333333333, \"#9c179e\"], [0.4444444444444444, \"#bd3786\"], [0.5555555555555556, \"#d8576b\"], [0.6666666666666666, \"#ed7953\"], [0.7777777777777778, \"#fb9f3a\"], [0.8888888888888888, \"#fdca26\"], [1.0, \"#f0f921\"]], \"type\": \"heatmap\"}], \"heatmapgl\": [{\"colorbar\": {\"outlinewidth\": 0, \"ticks\": \"\"}, \"colorscale\": [[0.0, \"#0d0887\"], [0.1111111111111111, \"#46039f\"], [0.2222222222222222, \"#7201a8\"], [0.3333333333333333, \"#9c179e\"], [0.4444444444444444, \"#bd3786\"], [0.5555555555555556, \"#d8576b\"], [0.6666666666666666, \"#ed7953\"], [0.7777777777777778, \"#fb9f3a\"], [0.8888888888888888, \"#fdca26\"], [1.0, \"#f0f921\"]], \"type\": \"heatmapgl\"}], \"histogram\": [{\"marker\": {\"colorbar\": {\"outlinewidth\": 0, \"ticks\": \"\"}}, \"type\": \"histogram\"}], \"histogram2d\": [{\"colorbar\": {\"outlinewidth\": 0, \"ticks\": \"\"}, \"colorscale\": [[0.0, \"#0d0887\"], [0.1111111111111111, \"#46039f\"], [0.2222222222222222, \"#7201a8\"], [0.3333333333333333, \"#9c179e\"], [0.4444444444444444, \"#bd3786\"], [0.5555555555555556, \"#d8576b\"], [0.6666666666666666, \"#ed7953\"], [0.7777777777777778, \"#fb9f3a\"], [0.8888888888888888, \"#fdca26\"], [1.0, \"#f0f921\"]], \"type\": \"histogram2d\"}], \"histogram2dcontour\": [{\"colorbar\": {\"outlinewidth\": 0, \"ticks\": \"\"}, \"colorscale\": [[0.0, \"#0d0887\"], [0.1111111111111111, \"#46039f\"], [0.2222222222222222, \"#7201a8\"], [0.3333333333333333, \"#9c179e\"], [0.4444444444444444, \"#bd3786\"], [0.5555555555555556, \"#d8576b\"], [0.6666666666666666, \"#ed7953\"], [0.7777777777777778, \"#fb9f3a\"], [0.8888888888888888, \"#fdca26\"], [1.0, \"#f0f921\"]], \"type\": \"histogram2dcontour\"}], \"mesh3d\": [{\"colorbar\": {\"outlinewidth\": 0, \"ticks\": \"\"}, \"type\": \"mesh3d\"}], \"parcoords\": [{\"line\": {\"colorbar\": {\"outlinewidth\": 0, \"ticks\": \"\"}}, \"type\": \"parcoords\"}], \"pie\": [{\"automargin\": true, \"type\": \"pie\"}], \"scatter\": [{\"marker\": {\"colorbar\": {\"outlinewidth\": 0, \"ticks\": \"\"}}, \"type\": \"scatter\"}], \"scatter3d\": [{\"line\": {\"colorbar\": {\"outlinewidth\": 0, \"ticks\": \"\"}}, \"marker\": {\"colorbar\": {\"outlinewidth\": 0, \"ticks\": \"\"}}, \"type\": \"scatter3d\"}], \"scattercarpet\": [{\"marker\": {\"colorbar\": {\"outlinewidth\": 0, \"ticks\": \"\"}}, \"type\": \"scattercarpet\"}], \"scattergeo\": [{\"marker\": {\"colorbar\": {\"outlinewidth\": 0, \"ticks\": \"\"}}, \"type\": \"scattergeo\"}], \"scattergl\": [{\"marker\": {\"colorbar\": {\"outlinewidth\": 0, \"ticks\": \"\"}}, \"type\": \"scattergl\"}], \"scattermapbox\": [{\"marker\": {\"colorbar\": {\"outlinewidth\": 0, \"ticks\": \"\"}}, \"type\": \"scattermapbox\"}], \"scatterpolar\": [{\"marker\": {\"colorbar\": {\"outlinewidth\": 0, \"ticks\": \"\"}}, \"type\": \"scatterpolar\"}], \"scatterpolargl\": [{\"marker\": {\"colorbar\": {\"outlinewidth\": 0, \"ticks\": \"\"}}, \"type\": \"scatterpolargl\"}], \"scatterternary\": [{\"marker\": {\"colorbar\": {\"outlinewidth\": 0, \"ticks\": \"\"}}, \"type\": \"scatterternary\"}], \"surface\": [{\"colorbar\": {\"outlinewidth\": 0, \"ticks\": \"\"}, \"colorscale\": [[0.0, \"#0d0887\"], [0.1111111111111111, \"#46039f\"], [0.2222222222222222, \"#7201a8\"], [0.3333333333333333, \"#9c179e\"], [0.4444444444444444, \"#bd3786\"], [0.5555555555555556, \"#d8576b\"], [0.6666666666666666, \"#ed7953\"], [0.7777777777777778, \"#fb9f3a\"], [0.8888888888888888, \"#fdca26\"], [1.0, \"#f0f921\"]], \"type\": \"surface\"}], \"table\": [{\"cells\": {\"fill\": {\"color\": \"#EBF0F8\"}, \"line\": {\"color\": \"white\"}}, \"header\": {\"fill\": {\"color\": \"#C8D4E3\"}, \"line\": {\"color\": \"white\"}}, \"type\": \"table\"}]}, \"layout\": {\"annotationdefaults\": {\"arrowcolor\": \"#2a3f5f\", \"arrowhead\": 0, \"arrowwidth\": 1}, \"coloraxis\": {\"colorbar\": {\"outlinewidth\": 0, \"ticks\": \"\"}}, \"colorscale\": {\"diverging\": [[0, \"#8e0152\"], [0.1, \"#c51b7d\"], [0.2, \"#de77ae\"], [0.3, \"#f1b6da\"], [0.4, \"#fde0ef\"], [0.5, \"#f7f7f7\"], [0.6, \"#e6f5d0\"], [0.7, \"#b8e186\"], [0.8, \"#7fbc41\"], [0.9, \"#4d9221\"], [1, \"#276419\"]], \"sequential\": [[0.0, \"#0d0887\"], [0.1111111111111111, \"#46039f\"], [0.2222222222222222, \"#7201a8\"], [0.3333333333333333, \"#9c179e\"], [0.4444444444444444, \"#bd3786\"], [0.5555555555555556, \"#d8576b\"], [0.6666666666666666, \"#ed7953\"], [0.7777777777777778, \"#fb9f3a\"], [0.8888888888888888, \"#fdca26\"], [1.0, \"#f0f921\"]], \"sequentialminus\": [[0.0, \"#0d0887\"], [0.1111111111111111, \"#46039f\"], [0.2222222222222222, \"#7201a8\"], [0.3333333333333333, \"#9c179e\"], [0.4444444444444444, \"#bd3786\"], [0.5555555555555556, \"#d8576b\"], [0.6666666666666666, \"#ed7953\"], [0.7777777777777778, \"#fb9f3a\"], [0.8888888888888888, \"#fdca26\"], [1.0, \"#f0f921\"]]}, \"colorway\": [\"#636efa\", \"#EF553B\", \"#00cc96\", \"#ab63fa\", \"#FFA15A\", \"#19d3f3\", \"#FF6692\", \"#B6E880\", \"#FF97FF\", \"#FECB52\"], \"font\": {\"color\": \"#2a3f5f\"}, \"geo\": {\"bgcolor\": \"white\", \"lakecolor\": \"white\", \"landcolor\": \"white\", \"showlakes\": true, \"showland\": true, \"subunitcolor\": \"#C8D4E3\"}, \"hoverlabel\": {\"align\": \"left\"}, \"hovermode\": \"closest\", \"mapbox\": {\"style\": \"light\"}, \"paper_bgcolor\": \"white\", \"plot_bgcolor\": \"white\", \"polar\": {\"angularaxis\": {\"gridcolor\": \"#EBF0F8\", \"linecolor\": \"#EBF0F8\", \"ticks\": \"\"}, \"bgcolor\": \"white\", \"radialaxis\": {\"gridcolor\": \"#EBF0F8\", \"linecolor\": \"#EBF0F8\", \"ticks\": \"\"}}, \"scene\": {\"xaxis\": {\"backgroundcolor\": \"white\", \"gridcolor\": \"#DFE8F3\", \"gridwidth\": 2, \"linecolor\": \"#EBF0F8\", \"showbackground\": true, \"ticks\": \"\", \"zerolinecolor\": \"#EBF0F8\"}, \"yaxis\": {\"backgroundcolor\": \"white\", \"gridcolor\": \"#DFE8F3\", \"gridwidth\": 2, \"linecolor\": \"#EBF0F8\", \"showbackground\": true, \"ticks\": \"\", \"zerolinecolor\": \"#EBF0F8\"}, \"zaxis\": {\"backgroundcolor\": \"white\", \"gridcolor\": \"#DFE8F3\", \"gridwidth\": 2, \"linecolor\": \"#EBF0F8\", \"showbackground\": true, \"ticks\": \"\", \"zerolinecolor\": \"#EBF0F8\"}}, \"shapedefaults\": {\"line\": {\"color\": \"#2a3f5f\"}}, \"ternary\": {\"aaxis\": {\"gridcolor\": \"#DFE8F3\", \"linecolor\": \"#A2B1C6\", \"ticks\": \"\"}, \"baxis\": {\"gridcolor\": \"#DFE8F3\", \"linecolor\": \"#A2B1C6\", \"ticks\": \"\"}, \"bgcolor\": \"white\", \"caxis\": {\"gridcolor\": \"#DFE8F3\", \"linecolor\": \"#A2B1C6\", \"ticks\": \"\"}}, \"title\": {\"x\": 0.05}, \"xaxis\": {\"automargin\": true, \"gridcolor\": \"#EBF0F8\", \"linecolor\": \"#EBF0F8\", \"ticks\": \"\", \"title\": {\"standoff\": 15}, \"zerolinecolor\": \"#EBF0F8\", \"zerolinewidth\": 2}, \"yaxis\": {\"automargin\": true, \"gridcolor\": \"#EBF0F8\", \"linecolor\": \"#EBF0F8\", \"ticks\": \"\", \"title\": {\"standoff\": 15}, \"zerolinecolor\": \"#EBF0F8\", \"zerolinewidth\": 2}}}, \"xaxis\": {\"anchor\": \"y\", \"domain\": [0.0, 1.0], \"fixedrange\": true, \"title\": {\"text\": \"index\"}}, \"yaxis\": {\"anchor\": \"x\", \"domain\": [0.0, 1.0], \"fixedrange\": true, \"side\": \"right\", \"title\": {\"text\": \"value\"}}},\n",
       "                        {\"responsive\": true}\n",
       "                    ).then(function(){\n",
       "                            \n",
       "var gd = document.getElementById('14c3d622-9c32-4394-b240-3bd807ac0a3b');\n",
       "var x = new MutationObserver(function (mutations, observer) {{\n",
       "        var display = window.getComputedStyle(gd).display;\n",
       "        if (!display || display === 'none') {{\n",
       "            console.log([gd, 'removed!']);\n",
       "            Plotly.purge(gd);\n",
       "            observer.disconnect();\n",
       "        }}\n",
       "}});\n",
       "\n",
       "// Listen for the removal of the full notebook cells\n",
       "var notebookContainer = gd.closest('#notebook-container');\n",
       "if (notebookContainer) {{\n",
       "    x.observe(notebookContainer, {childList: true});\n",
       "}}\n",
       "\n",
       "// Listen for the clearing of the current output cell\n",
       "var outputEl = gd.closest('.output');\n",
       "if (outputEl) {{\n",
       "    x.observe(outputEl, {childList: true});\n",
       "}}\n",
       "\n",
       "                        })\n",
       "                };\n",
       "                });\n",
       "            </script>\n",
       "        </div>"
      ]
     },
     "metadata": {},
     "output_type": "display_data"
    }
   ],
   "source": [
    "plot_interactive_df(sims[[\"prediction\", \"truth\"]])"
   ]
  },
  {
   "cell_type": "code",
   "execution_count": 602,
   "metadata": {},
   "outputs": [
    {
     "data": {
      "text/html": [
       "<div>\n",
       "<style scoped>\n",
       "    .dataframe tbody tr th:only-of-type {\n",
       "        vertical-align: middle;\n",
       "    }\n",
       "\n",
       "    .dataframe tbody tr th {\n",
       "        vertical-align: top;\n",
       "    }\n",
       "\n",
       "    .dataframe thead th {\n",
       "        text-align: right;\n",
       "    }\n",
       "</style>\n",
       "<table border=\"1\" class=\"dataframe\">\n",
       "  <thead>\n",
       "    <tr style=\"text-align: right;\">\n",
       "      <th></th>\n",
       "      <th></th>\n",
       "      <th>log_total_active</th>\n",
       "      <th>log_growth</th>\n",
       "      <th>log_growth_3d</th>\n",
       "      <th>log_growth_7d</th>\n",
       "      <th>log_growth_3d_ago</th>\n",
       "    </tr>\n",
       "    <tr>\n",
       "      <th>date</th>\n",
       "      <th>country</th>\n",
       "      <th></th>\n",
       "      <th></th>\n",
       "      <th></th>\n",
       "      <th></th>\n",
       "      <th></th>\n",
       "    </tr>\n",
       "  </thead>\n",
       "  <tbody>\n",
       "    <tr>\n",
       "      <th>2020-03-18</th>\n",
       "      <th>Georgia</th>\n",
       "      <td>1.151057</td>\n",
       "      <td>1.078176</td>\n",
       "      <td>1.212454</td>\n",
       "      <td>2.314685</td>\n",
       "      <td>1.151899</td>\n",
       "    </tr>\n",
       "  </tbody>\n",
       "</table>\n",
       "</div>"
      ],
      "text/plain": [
       "                    log_total_active  log_growth  log_growth_3d  \\\n",
       "date       country                                                \n",
       "2020-03-18 Georgia          1.151057    1.078176       1.212454   \n",
       "\n",
       "                    log_growth_7d  log_growth_3d_ago  \n",
       "date       country                                    \n",
       "2020-03-18 Georgia       2.314685           1.151899  "
      ]
     },
     "execution_count": 602,
     "metadata": {},
     "output_type": "execute_result"
    }
   ],
   "source": [
    "np.exp(features.loc[guy.index])"
   ]
  },
  {
   "cell_type": "code",
   "execution_count": null,
   "metadata": {},
   "outputs": [],
   "source": []
  },
  {
   "cell_type": "code",
   "execution_count": null,
   "metadata": {},
   "outputs": [],
   "source": []
  },
  {
   "cell_type": "code",
   "execution_count": null,
   "metadata": {},
   "outputs": [],
   "source": []
  },
  {
   "cell_type": "code",
   "execution_count": null,
   "metadata": {},
   "outputs": [],
   "source": []
  },
  {
   "cell_type": "code",
   "execution_count": null,
   "metadata": {},
   "outputs": [],
   "source": []
  },
  {
   "cell_type": "code",
   "execution_count": null,
   "metadata": {},
   "outputs": [],
   "source": []
  },
  {
   "cell_type": "code",
   "execution_count": null,
   "metadata": {},
   "outputs": [],
   "source": []
  }
 ],
 "metadata": {
  "kernelspec": {
   "display_name": "Python 3",
   "language": "python",
   "name": "python3"
  },
  "language_info": {
   "codemirror_mode": {
    "name": "ipython",
    "version": 3
   },
   "file_extension": ".py",
   "mimetype": "text/x-python",
   "name": "python",
   "nbconvert_exporter": "python",
   "pygments_lexer": "ipython3",
   "version": "3.6.8"
  }
 },
 "nbformat": 4,
 "nbformat_minor": 4
}
