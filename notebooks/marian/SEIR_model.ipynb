{
 "cells": [
  {
   "cell_type": "markdown",
   "metadata": {},
   "source": [
    "# Source:\n",
    "SEIR Algorithm to model evolution of Coronavirus based on: \n",
    "<br> <br>\n",
    "K. Prem et al., \"The effect of control strategies to reduce social mixing on outcomes of the COVID-19 epidemic in Wuhan, China: a modelling study,\" The Lancet Public Health, 2020, doi: 10.1016/s2468-2667(20)30073-6.\n",
    "<br> \n",
    "# Model:\n",
    "SEIR Stands for: <br>\n",
    "S - Susceptible <br>\n",
    "E - Exposed <br>\n",
    "I - Infected <br>\n",
    "R - Removed <br>\n",
    "<br>\n",
    "Population has been devided into age groups spanning five years, with the last group collecting all 75+ year olds. Each age group $$i$$ can be modelled separatelly.\n",
    "\n",
    "The model is driven with the following equations: <br>\n",
    "$$ N(t) = S(t) + E(t) + I(t) + R(t) $$ \n",
    "$$ S_{i,t+1} = S_{i,t} -\\beta S_{i,t} \\sum_{j = 1}^{n} C_{i,j}I_{j,t}^{c}/Pop_{j} - \\alpha\\beta \\sum_{j = 1}^{n} C_{i,j}I_{j,t}/Pop_{j}^{sc} $$\n",
    "$$ E_{i,t+1} = \\beta S_{i,t} \\sum_{j = 1}^{n} C_{i,j}I_{j,t}^{c}/Pop_{j} + \\alpha\\beta S_{i,t} \\sum_{j = 1}^{n} C_{i,j}I_{j,t}^{sc}/Pop_{j} + (1-\\kappa)E_{i,t}  $$\n",
    "$$ I_{j,t+1}^{c} = \\rho_{i} \\kappa E_{i,t} + (1+\\gamma)I_{j,t}^{c}$$\n",
    "$$ I_{j,t+1}^{sc} = (1-\\rho_{i}) \\kappa E_{i,t} + (1+\\gamma)I_{j,t}^{sc}$$\n",
    "$$ R_{i,t+1} = R_{i,t} + \\gamma I_{j,t}^{c} + \\gamma I_{j,t}^{sc} $$ \n",
    "<br> \n",
    "\n",
    "## Parameters:\n",
    "$ \\beta $ Scaled to the value of $R_{0}$ ($\\beta = R_{0}*\\gamma*max(eig(C))$ <br>\n",
    "$ C_{i,j} $ Contact parameter between different age groups <br>\n",
    "$ \\kappa = 1-\\exp(\\frac{-1}{d_{L}}) $  is the daily probability of an exposed individual becoming infectious (with $d_{L}$ being\n",
    "the average incubation period) <br>\n",
    "$ \\gamma = 1-\\exp(\\frac{-1}{d_{I}}) $ is the daily probability that an infected individual recovers when the average duration of infection is $d_{I}$ <br> \n",
    "$\\rho$ is probability of the infected to have symptoms, while $(1-\\rho)$ is the probability to be asymptomatic<br>\n",
    "$ \\alpha $ - probability of getting infected from subclinical<br> \n",
    "\n",
    "## Numerical values implemented in the paper\n",
    "$$ R_{0} = 2.2 $$\n",
    "$$ d_{L} = 6.4 $$\n",
    "$$ d_{I} = \\{ 3, 7 \\} $$\n",
    "$$ I_{0} = \\{ 200, 2000 \\} $$\n",
    "$$ \\rho_{i} = \\{ 0, 0.4 \\} \\textrm{for} i \\le 4 $$ \n",
    "$$ \\rho_{i} = \\{ 0, 0.8 \\} \\textrm{for} i > 4 $$ \n",
    "$$ \\alpha = 0.25 $$"
   ]
  },
  {
   "cell_type": "code",
   "execution_count": 1,
   "metadata": {},
   "outputs": [],
   "source": [
    "import numpy as np\n",
    "import pandas as pd\n",
    "import pyreadr\n",
    "import matplotlib.pyplot as plt"
   ]
  },
  {
   "cell_type": "code",
   "execution_count": 148,
   "metadata": {},
   "outputs": [
    {
     "name": "stdout",
     "output_type": "stream",
     "text": [
      "    agegroup   popage   propage\n",
      "0          1   407903  0.037887\n",
      "1          2   282264  0.026218\n",
      "2          3   817453  0.075928\n",
      "3          4  1430272  0.132848\n",
      "4          5   896025  0.083226\n",
      "5          6   842295  0.078235\n",
      "6          7   701197  0.065129\n",
      "7          8   864953  0.080340\n",
      "8          9  1049332  0.097465\n",
      "9         10   431113  0.040043\n",
      "10        11   691750  0.064252\n",
      "11        12   726228  0.067454\n",
      "12        13   568724  0.052825\n",
      "13        14   352535  0.032745\n",
      "14        15   273800  0.025431\n",
      "15        16   430356  0.039973\n"
     ]
    }
   ],
   "source": [
    "## Import population data\n",
    "age_data_url =  'https://raw.githubusercontent.com/kieshaprem/covid19-agestructureSEIR-wuhan-social-distancing/master/data/wuhanpop.csv';\n",
    "age_strc = pd.read_csv(age_data_url)\n",
    "\n",
    "interaction_file = 'C://Users//Aleksander//PycharmProjects//coronus-ml2//notebooks//marian//data//contacts_all.csv';\n",
    "Cmat = pd.read_csv(interaction_file); # also works for Rds\n",
    "Cmat = Cmat.iloc[:,1:].to_numpy();\n",
    "# Create M matrix (C scaled by age)\n",
    "M = Cmat;\n",
    "for ii in range(0,Cmat.shape[0]):\n",
    "    for jj in range(0, Cmat.shape[1]):\n",
    "        M[ii][jj] = Cmat[ii][jj]*age_strc.propage[ii]/age_strc.propage[jj]; \n",
    "M_eig = np.linalg.eig(M)\n",
    "max_eig = np.max(np.real(M_eig[0]));"
   ]
  },
  {
   "cell_type": "code",
   "execution_count": 174,
   "metadata": {},
   "outputs": [],
   "source": [
    "## Initialise parameters\n",
    "# Model parameters\n",
    "R0 = 2.2;\n",
    "dL = 6.4;\n",
    "kappa = 1-np.exp(-1/dL);\n",
    "dI = 7;\n",
    "gamma = 1-np.exp(-1/dI);\n",
    "I0 = 2000;\n",
    "rho = np.zeros([16,1]);\n",
    "rho[0:3] = 0.4;\n",
    "rho[3:-1] = 0.8;\n",
    "alpha = 0.25;\n",
    "beta = R0*gamma/max_eig;\n",
    "# Assume outbreak started on 10th of January\n",
    "n_days = 440;\n",
    "\n",
    "\n",
    "# Population\n",
    "N = 11e6;\n",
    "S = np.zeros([16,n_days]);\n",
    "E = np.zeros([16,n_days]);\n",
    "Ic = np.zeros([16,n_days]);\n",
    "Isc = np.zeros([16,n_days]);\n",
    "R = np.zeros([16,n_days]);\n",
    "\n",
    "Isc[:,0] = np.round(I0*age_strc.propage.to_numpy());\n",
    "S[:,0] =  np.round(N*age_strc.propage.to_numpy())-Isc[:,0];\n"
   ]
  },
  {
   "cell_type": "code",
   "execution_count": 175,
   "metadata": {},
   "outputs": [],
   "source": [
    "# Explore the outbreak\n",
    "for day in range(1,n_days):\n",
    "    for grp in range(0, 16):\n",
    "        S[grp, day] = S[grp, day-1]-beta*S[grp, day-1]*np.dot(Cmat[grp,:], Ic[:, day-1]/age_strc.popage[grp])-alpha*beta*S[grp, day-1]*np.dot(Cmat[grp,:], Isc[:, day-1]/age_strc.popage[grp])\n",
    "        E[grp, day] = beta*S[grp, day-1]*np.dot(Cmat[grp,:], Ic[:, day-1]/age_strc.popage[grp])+alpha*beta*S[grp, day-1]*np.dot(Cmat[grp,:], Isc[:, day-1]/age_strc.popage[grp])+(1-kappa)*E[grp, day-1];\n",
    "        Ic[grp, day] = rho[grp]*kappa*E[grp, day-1]+(1-gamma)*Ic[grp, day-1];\n",
    "        Isc[grp, day] = (1-rho[grp])*kappa*E[grp, day-1]+(1-gamma)*Isc[grp, day-1];\n",
    "        R[grp, day] = R[grp, day-1] + gamma*Ic[grp, day-1] + gamma*Isc[grp, day-1];"
   ]
  },
  {
   "cell_type": "code",
   "execution_count": 176,
   "metadata": {},
   "outputs": [
    {
     "data": {
      "text/plain": [
       "<matplotlib.axes._subplots.AxesSubplot at 0x18cfeaae100>"
      ]
     },
     "execution_count": 176,
     "metadata": {},
     "output_type": "execute_result"
    },
    {
     "data": {
      "image/png": "[encoded data removed]",
      "text/plain": [
       "<Figure size 432x288 with 1 Axes>"
      ]
     },
     "metadata": {
      "needs_background": "light"
     },
     "output_type": "display_data"
    }
   ],
   "source": [
    "# Save data to pandas frame\n",
    "epi_data = {'Susceptible': np.sum(S,axis = 0),\n",
    "           'Exposed': np.sum(E,axis = 0),\n",
    "           'Infected': np.sum(Ic, axis = 0)+np.sum(Isc,axis = 0),\n",
    "           'Removed': np.sum(R,axis = 0)}\n",
    "\n",
    "epidemy = pd.DataFrame(epi_data, columns = ['Susceptible', 'Exposed', 'Infected', 'Removed'])\n",
    "\n",
    "epidemy.Infected.plot()\n",
    "epidemy.Removed.plot()\n"
   ]
  },
  {
   "cell_type": "code",
   "execution_count": 172,
   "metadata": {
    "scrolled": true
   },
   "outputs": [
    {
     "name": "stdout",
     "output_type": "stream",
     "text": [
      "0.09904354749621032\n",
      "0.28346868942621073\n",
      "0.14465467269257748\n"
     ]
    }
   ],
   "source": [
    "print(beta)\n",
    "print(gamma)\n",
    "print(kappa)"
   ]
  },
  {
   "cell_type": "code",
   "execution_count": 134,
   "metadata": {},
   "outputs": [
    {
     "name": "stdout",
     "output_type": "stream",
     "text": [
      "0.08715832179666509\n",
      "183.93047661628012\n",
      "4.007767917283932\n",
      "915466.0\n"
     ]
    }
   ],
   "source": [
    "grp = 4\n",
    "day = 1\n",
    "S[grp, day] = S[grp, day-1]-beta*np.dot(Cmat[grp,:], Ic[:, day-1])-alpha*beta*np.dot(Cmat[grp,:], Isc[:, day-1])\n",
    "print(beta)\n",
    "print(np.dot(Cmat[grp,:], Isc[:, day-1]))\n",
    "print(alpha*beta*np.dot(Cmat[grp,:], Isc[:, day-1]))\n",
    "print(S[grp,day-1])\n",
    "\n",
    "\n"
   ]
  },
  {
   "cell_type": "code",
   "execution_count": null,
   "metadata": {},
   "outputs": [],
   "source": []
  },
  {
   "cell_type": "code",
   "execution_count": null,
   "metadata": {},
   "outputs": [],
   "source": []
  }
 ],
 "metadata": {
  "kernelspec": {
   "display_name": "Python 3",
   "language": "python",
   "name": "python3"
  },
  "language_info": {
   "codemirror_mode": {
    "name": "ipython",
    "version": 3
   },
   "file_extension": ".py",
   "mimetype": "text/x-python",
   "name": "python",
   "nbconvert_exporter": "python",
   "pygments_lexer": "ipython3",
   "version": "3.8.2"
  }
 },
 "nbformat": 4,
 "nbformat_minor": 4
}
