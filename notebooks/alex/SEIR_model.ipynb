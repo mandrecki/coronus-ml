{
 "cells": [
  {
   "cell_type": "markdown",
   "metadata": {},
   "source": [
    "# Source:\n",
    "SEIR Algorithm to model evolution of Coronavirus based on: \n",
    "<br> <br>\n",
    "K. Prem et al., \"The effect of control strategies to reduce social mixing on outcomes of the COVID-19 epidemic in Wuhan, China: a modelling study,\" The Lancet Public Health, 2020, doi: 10.1016/s2468-2667(20)30073-6.\n",
    "<br> \n",
    "# Model:\n",
    "SEIR Stands for: <br>\n",
    "S - Susceptible <br>\n",
    "E - Exposed <br>\n",
    "I - Infected <br>\n",
    "R - Removed <br>\n",
    "<br>\n",
    "Population has been devided into age groups spanning five years, with the last group collecting all 75+ year olds. Each age group $$i$$ can be modelled separatelly.\n",
    "\n",
    "The model is driven with the following equations: <br>\n",
    "$$ N(t) = S(t) + E(t) + I(t) + R(t) $$ \n",
    "$$ S_{i,t+1} = S_{i,t} -\\beta S_{i,t} \\sum_{j = 1}^{n} C_{i,j}I_{j,t}^{c} - \\alpha\\beta \\sum_{j = 1}^{n} C_{i,j}I_{j,t}^{sc} $$\n",
    "$$ E_{i,t+1} = \\beta \\sum_{j = 1}^{n} C_{i,j}I_{j,t}^{c} + \\alpha\\beta \\sum_{j = 1}^{n} C_{i,j}I_{j,t}^{sc} - (1-\\kappa)E_{i,t}  $$\n",
    "$$ I_{j,t+1}^{c} = \\rho_{i} \\kappa E_{i,t} + (1+\\gamma)I_{j,t}^{c}$$\n",
    "$$ I_{j,t+1}^{sc} = (1-\\rho_{i}) \\kappa E_{i,t} + (1+\\gamma)I_{j,t}^{sc}$$\n",
    "$$ R_{i,t+1} = R_{i,t} + \\gamma I_{j,t+1}^{c} + \\gamma I_{j,t+1}^{sc} $$ \n",
    "<br> \n",
    "\n",
    "## Parameters:\n",
    "$ \\beta $ Scaled to the value of $R_{0}$ <br>\n",
    "$ C_{i,j} $ Contact parameter between different age groups <br>\n",
    "$ \\kappa = 1-\\exp(\\frac{-1}{d_{L}}) $  is the daily probability of an exposed individual becoming infectious (with $d_{L}$ being\n",
    "the average incubation period) <br>\n",
    "$ \\gamma = 1-\\exp(\\frac{-1}{d_{I}}) $ is the daily probability that an infected individual recovers when the average duration of infection is $d_{I}$ <br> \n",
    "$\\rho$ is probability of the infected to have symptoms, while $(1-\\rho)$ is the probability to be asymptomatic<br>\n",
    "$ \\alpha $ - probability of getting infected from subclinical<br> \n",
    "\n",
    "## Numerical values implemented in the paper\n",
    "$$ R_{0} = 2.2 $$\n",
    "$$ d_{L} = 6.4 $$\n",
    "$$ d_{I} = \\{ 3, 7 \\} $$\n",
    "$$ I_{0} = \\{ 200, 2000 \\} $$\n",
    "$$ \\rho_{i} = \\{ 0, 0.4 \\} \\textrm{for} i \\le 4 $$ \n",
    "$$ \\rho_{i} = \\{ 0, 0.8 \\} \\textrm{for} i > 4 $$ \n",
    "$$ \\alpha = 0.25 $$"
   ]
  },
  {
   "cell_type": "code",
   "execution_count": 2,
   "metadata": {},
   "outputs": [],
   "source": [
    "import numpy as np\n",
    "import pandas as pd\n",
    "import pyreadr\n",
    "import matplotlib.pyplot as plt"
   ]
  },
  {
   "cell_type": "code",
   "execution_count": 3,
   "metadata": {},
   "outputs": [],
   "source": [
    "## Import population data\n",
    "age_data_url =  'https://raw.githubusercontent.com/kieshaprem/covid19-agestructureSEIR-wuhan-social-distancing/master/data/wuhanpop.csv';\n",
    "age_strc = pd.read_csv(age_data_url)\n",
    "\n",
    "interaction_file = 'C://Users//Aleksander//PycharmProjects//coronus-ml2//notebooks//marian//data//contacts_all.csv';\n",
    "Cmat = pd.read_csv(interaction_file); # also works for Rds\n",
    "Cmat = Cmat.iloc[:,1:].to_numpy();\n",
    "#Cmat = Cmat.iloc[:,1:-1].to_numpy(); # convert to matrix"
   ]
  },
  {
   "cell_type": "code",
   "execution_count": 4,
   "metadata": {},
   "outputs": [],
   "source": [
    "## Initialise parameters\n",
    "# Model parameters\n",
    "R0 = 2.2;\n",
    "dL = 6.4;\n",
    "kappa = 1-np.exp(-1/dL);\n",
    "dI = 7;\n",
    "gamma = 1-np.exp(-1/dI);\n",
    "I0 = 200;\n",
    "rho = np.zeros([16,1]);\n",
    "rho[0:3] = 0.4;\n",
    "rho[3:-1] = 0.8;\n",
    "alpha = 0.25;\n",
    "beta = R0*gamma;\n",
    "# Assume outbreak started on 10th of January\n",
    "n_days = 40;\n",
    "\n",
    "\n",
    "# Population\n",
    "N = 11e6;\n",
    "S = np.zeros([16,n_days]);\n",
    "E = np.zeros([16,n_days]);\n",
    "Ic = np.zeros([16,n_days]);\n",
    "Isc = np.zeros([16,n_days]);\n",
    "R = np.zeros([16,n_days]);\n",
    "\n",
    "Isc[:,0] = np.round(I0*age_strc.propage.to_numpy());\n",
    "S[:,0] =  np.round(N*age_strc.propage.to_numpy())-Isc[:,0];\n"
   ]
  },
  {
   "cell_type": "code",
   "execution_count": 5,
   "metadata": {},
   "outputs": [],
   "source": [
    "# Explore the outbreak\n",
    "for day in range(1,n_days):\n",
    "    for grp in range(0, 16):\n",
    "        S[grp, day] = S[grp, day-1]-beta*S[grp, day-1]*np.dot(Cmat[grp,:], Ic[:, day-1])-alpha*beta*S[grp, day-1]*np.dot(Cmat[grp,:], Isc[:, day-1])\n",
    "        E[grp, day] = beta*np.dot(Cmat[grp,:], Ic[:, day-1])+alpha*beta*np.dot(Cmat[grp,:], Isc[:, day-1])-(1-kappa)*E[grp, day-1];\n",
    "        Ic[grp, day] = rho[grp]*kappa*E[grp, day-1]+(1-gamma)*Ic[grp, day-1];\n",
    "        Isc[grp, day] = (1-rho[grp])*kappa*E[grp, day-1]+(1-gamma)*Isc[grp, day-1];\n",
    "        R[grp, day] = R[grp, day-1] + gamma*Ic[grp, day] + gamma*Isc[grp, day];"
   ]
  },
  {
   "cell_type": "code",
   "execution_count": 6,
   "metadata": {},
   "outputs": [
    {
     "name": "stdout",
     "output_type": "stream",
     "text": [
      "     Susceptible    Exposed    Infected    Removed\n",
      "0   1.099980e+07   0.000000  201.000000   0.000000\n",
      "1  -6.597823e+07  91.875358  174.242458  91.875358\n",
      "2   4.687197e+08   1.059559  164.337136   1.059559\n",
      "3  -4.817557e+09  90.004360  142.613501  90.004360\n",
      "4   4.759158e+10   2.075823  136.648044   2.075823\n",
      "5  -5.871513e+11  88.403453  118.757447  88.403453\n",
      "6   6.436440e+12   3.057867  115.736178   3.057867\n",
      "7  -8.436138e+13  87.027057  100.771470  87.027057\n",
      "8   9.696074e+14   4.012686   99.945431   4.012686\n",
      "9  -1.318983e+16  85.837655   87.220939  85.837655\n",
      "10  1.575882e+17   4.945643   88.026722   4.945643\n",
      "11 -2.218991e+18  84.804351   77.023830  84.804351\n",
      "12  2.753549e+19   5.860840   79.037602   5.860840\n",
      "13 -4.009167e+20  83.901690   69.363748  83.901690\n",
      "14  5.157520e+21   6.761397   72.266672   6.761397\n",
      "15 -7.742187e+22  83.108682   63.624448  83.108682\n",
      "16  1.028626e+24   7.649676   67.176687   7.649676\n",
      "17 -1.585061e+25  82.408018   59.340547  82.408018\n",
      "18  2.164729e+26   8.527456   63.361714   8.527456\n",
      "19 -3.408397e+27  81.785410   56.160406  81.785410\n",
      "20  4.763309e+28   9.396069   60.514856   9.396069\n",
      "21 -7.632428e+29  81.229064   53.818177  81.229064\n",
      "22  1.087424e+31  10.256505   58.403952  10.256505\n",
      "23 -1.767665e+32  80.729232   52.112746  80.729232\n",
      "24  2.560246e+33  11.109498   56.853249  11.109498\n",
      "25 -4.212513e+34  80.277858   50.891866  80.277858\n",
      "26  6.189757e+35  11.955588   55.729601  11.955588\n",
      "27 -1.029186e+37  79.868277   50.040191  79.868277\n",
      "28  1.531918e+38  12.795172   54.932055  12.795172\n",
      "29 -2.571146e+39  79.494973   49.470266  79.494973\n",
      "30  3.872705e+40  13.628538   54.384000  13.628538\n",
      "31 -6.555860e+41  79.153375   49.115719  79.153375\n",
      "32  9.984389e+42  14.455902   54.027237  14.455902\n",
      "33 -1.703763e+44  78.839693   48.926131  78.839693\n",
      "34  2.622080e+45  15.277421   53.817512  15.277421\n",
      "35 -4.508361e+46  78.550782   48.863162  78.550782\n",
      "36  7.008074e+47  16.093218   53.721133  16.093218\n",
      "37 -1.213708e+49  78.284027   48.897622  78.284027\n",
      "38  1.904916e+50  16.903387   53.712418  16.903387\n",
      "39 -3.322181e+51  78.037254   49.007262  78.037254\n"
     ]
    }
   ],
   "source": [
    "# Save data to pandas frame\n",
    "epi_data = {'Susceptible': np.sum(S,0),\n",
    "           'Exposed': np.sum(E,0),\n",
    "           'Infected': np.sum(Ic,0)+np.sum(Isc,0),\n",
    "           'Removed': np.sum(E,0)}\n",
    "\n",
    "epidemy = pd.DataFrame(epi_data, columns = ['Susceptible', 'Exposed', 'Infected', 'Removed'])\n",
    "print(epidemy)"
   ]
  },
  {
   "cell_type": "code",
   "execution_count": 7,
   "metadata": {
    "scrolled": true
   },
   "outputs": [
    {
     "name": "stdout",
     "output_type": "stream",
     "text": [
      "0.2928686205496005\n",
      "0.1331221002498184\n",
      "0.14465467269257748\n"
     ]
    }
   ],
   "source": [
    "print(beta)\n",
    "print(gamma)\n",
    "print(kappa)"
   ]
  },
  {
   "cell_type": "code",
   "execution_count": 8,
   "metadata": {},
   "outputs": [
    {
     "name": "stdout",
     "output_type": "stream",
     "text": [
      "-11754937.869245917\n",
      "13.840387157191984\n",
      "0.0\n",
      "[0.13022835 0.16493219 0.2443277  1.97749436 3.98260418 1.31092039\n",
      " 0.75788067 0.60057643 0.51261936 0.56913329 0.23529689 0.21701058\n",
      " 0.07789089 0.05209109 0.05100802 0.03978713]\n"
     ]
    }
   ],
   "source": [
    "grp = 4\n",
    "day = 1\n",
    "S[grp, day] = S[grp, day-1]-beta*S[grp, day-1]*np.dot(Cmat[grp,:], Ic[:, day-1])-alpha*beta*S[grp, day-1]*np.dot(Cmat[grp,:], Isc[:, day-1])\n",
    "print(S[grp, day])\n",
    "print(alpha*beta*np.dot(Cmat[grp,:], Isc[:, day-1]))\n",
    "print(beta*np.dot(Cmat[grp,:], Ic[:, day-1]))\n",
    "print(Cmat[grp,:])\n",
    "\n"
   ]
  },
  {
   "cell_type": "code",
   "execution_count": null,
   "metadata": {},
   "outputs": [],
   "source": []
  },
  {
   "cell_type": "code",
   "execution_count": null,
   "metadata": {},
   "outputs": [],
   "source": []
  }
 ],
 "metadata": {
  "kernelspec": {
   "display_name": "Python 3",
   "language": "python",
   "name": "python3"
  },
  "language_info": {
   "codemirror_mode": {
    "name": "ipython",
    "version": 3
   },
   "file_extension": ".py",
   "mimetype": "text/x-python",
   "name": "python",
   "nbconvert_exporter": "python",
   "pygments_lexer": "ipython3",
   "version": "3.8.2"
  }
 },
 "nbformat": 4,
 "nbformat_minor": 4
}
